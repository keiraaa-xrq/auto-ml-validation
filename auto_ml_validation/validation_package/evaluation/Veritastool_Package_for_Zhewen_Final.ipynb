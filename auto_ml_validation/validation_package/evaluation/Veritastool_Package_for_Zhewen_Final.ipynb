{
 "cells": [
  {
   "cell_type": "markdown",
   "id": "ebe791f9",
   "metadata": {},
   "source": [
    "### Install and Import package"
   ]
  },
  {
   "cell_type": "code",
   "execution_count": 24,
   "id": "dc2b30e9",
   "metadata": {
    "scrolled": true
   },
   "outputs": [
    {
     "name": "stdout",
     "output_type": "stream",
     "text": [
      "Requirement already satisfied: veritastool in /Users/user/opt/anaconda3/lib/python3.9/site-packages (1.0.2)\n",
      "Requirement already satisfied: matplotlib==3.4.3 in /Users/user/opt/anaconda3/lib/python3.9/site-packages (from veritastool) (3.4.3)\n",
      "Requirement already satisfied: tqdm==4.62.2 in /Users/user/opt/anaconda3/lib/python3.9/site-packages (from veritastool) (4.62.2)\n",
      "Requirement already satisfied: scipy==1.7.1 in /Users/user/opt/anaconda3/lib/python3.9/site-packages (from veritastool) (1.7.1)\n",
      "Requirement already satisfied: scikit-learn==0.24.2 in /Users/user/opt/anaconda3/lib/python3.9/site-packages (from veritastool) (0.24.2)\n",
      "Requirement already satisfied: pandas==1.3.2 in /Users/user/opt/anaconda3/lib/python3.9/site-packages (from veritastool) (1.3.2)\n",
      "Requirement already satisfied: ipywidgets==7.6.4 in /Users/user/opt/anaconda3/lib/python3.9/site-packages (from veritastool) (7.6.4)\n",
      "Requirement already satisfied: pytest==6.2.5 in /Users/user/opt/anaconda3/lib/python3.9/site-packages (from veritastool) (6.2.5)\n",
      "Requirement already satisfied: IPython==7.27.0 in /Users/user/opt/anaconda3/lib/python3.9/site-packages (from veritastool) (7.27.0)\n",
      "Requirement already satisfied: numpy==1.21.2 in /Users/user/opt/anaconda3/lib/python3.9/site-packages (from veritastool) (1.21.2)\n",
      "Requirement already satisfied: pygments in /Users/user/opt/anaconda3/lib/python3.9/site-packages (from IPython==7.27.0->veritastool) (2.10.0)\n",
      "Requirement already satisfied: matplotlib-inline in /Users/user/opt/anaconda3/lib/python3.9/site-packages (from IPython==7.27.0->veritastool) (0.1.2)\n",
      "Requirement already satisfied: decorator in /Users/user/opt/anaconda3/lib/python3.9/site-packages (from IPython==7.27.0->veritastool) (5.1.0)\n",
      "Requirement already satisfied: prompt-toolkit!=3.0.0,!=3.0.1,<3.1.0,>=2.0.0 in /Users/user/opt/anaconda3/lib/python3.9/site-packages (from IPython==7.27.0->veritastool) (3.0.20)\n",
      "Requirement already satisfied: traitlets>=4.2 in /Users/user/opt/anaconda3/lib/python3.9/site-packages (from IPython==7.27.0->veritastool) (5.1.0)\n",
      "Requirement already satisfied: jedi>=0.16 in /Users/user/opt/anaconda3/lib/python3.9/site-packages (from IPython==7.27.0->veritastool) (0.18.0)\n",
      "Requirement already satisfied: pexpect>4.3 in /Users/user/opt/anaconda3/lib/python3.9/site-packages (from IPython==7.27.0->veritastool) (4.8.0)\n",
      "Requirement already satisfied: pickleshare in /Users/user/opt/anaconda3/lib/python3.9/site-packages (from IPython==7.27.0->veritastool) (0.7.5)\n",
      "Requirement already satisfied: appnope in /Users/user/opt/anaconda3/lib/python3.9/site-packages (from IPython==7.27.0->veritastool) (0.1.2)\n",
      "Requirement already satisfied: setuptools>=18.5 in /Users/user/opt/anaconda3/lib/python3.9/site-packages (from IPython==7.27.0->veritastool) (67.6.1)\n",
      "Requirement already satisfied: backcall in /Users/user/opt/anaconda3/lib/python3.9/site-packages (from IPython==7.27.0->veritastool) (0.2.0)\n",
      "Requirement already satisfied: ipython-genutils~=0.2.0 in /Users/user/opt/anaconda3/lib/python3.9/site-packages (from ipywidgets==7.6.4->veritastool) (0.2.0)\n",
      "Requirement already satisfied: widgetsnbextension~=3.5.0 in /Users/user/opt/anaconda3/lib/python3.9/site-packages (from ipywidgets==7.6.4->veritastool) (3.5.1)\n",
      "Requirement already satisfied: ipykernel>=4.5.1 in /Users/user/opt/anaconda3/lib/python3.9/site-packages (from ipywidgets==7.6.4->veritastool) (6.4.1)\n",
      "Requirement already satisfied: nbformat>=4.2.0 in /Users/user/opt/anaconda3/lib/python3.9/site-packages (from ipywidgets==7.6.4->veritastool) (5.1.3)\n",
      "Requirement already satisfied: jupyterlab-widgets>=1.0.0 in /Users/user/opt/anaconda3/lib/python3.9/site-packages (from ipywidgets==7.6.4->veritastool) (1.0.0)\n",
      "Requirement already satisfied: pillow>=6.2.0 in /Users/user/opt/anaconda3/lib/python3.9/site-packages (from matplotlib==3.4.3->veritastool) (9.4.0)\n",
      "Requirement already satisfied: kiwisolver>=1.0.1 in /Users/user/opt/anaconda3/lib/python3.9/site-packages (from matplotlib==3.4.3->veritastool) (1.3.1)\n",
      "Requirement already satisfied: pyparsing>=2.2.1 in /Users/user/opt/anaconda3/lib/python3.9/site-packages (from matplotlib==3.4.3->veritastool) (3.0.4)\n",
      "Requirement already satisfied: python-dateutil>=2.7 in /Users/user/opt/anaconda3/lib/python3.9/site-packages (from matplotlib==3.4.3->veritastool) (2.8.2)\n",
      "Requirement already satisfied: cycler>=0.10 in /Users/user/opt/anaconda3/lib/python3.9/site-packages (from matplotlib==3.4.3->veritastool) (0.10.0)\n",
      "Requirement already satisfied: pytz>=2017.3 in /Users/user/opt/anaconda3/lib/python3.9/site-packages (from pandas==1.3.2->veritastool) (2022.7.1)\n",
      "Requirement already satisfied: iniconfig in /Users/user/opt/anaconda3/lib/python3.9/site-packages (from pytest==6.2.5->veritastool) (1.1.1)\n",
      "Requirement already satisfied: pluggy<2.0,>=0.12 in /Users/user/opt/anaconda3/lib/python3.9/site-packages (from pytest==6.2.5->veritastool) (0.13.1)\n",
      "Requirement already satisfied: toml in /Users/user/opt/anaconda3/lib/python3.9/site-packages (from pytest==6.2.5->veritastool) (0.10.2)\n",
      "Requirement already satisfied: attrs>=19.2.0 in /Users/user/opt/anaconda3/lib/python3.9/site-packages (from pytest==6.2.5->veritastool) (21.2.0)\n",
      "Requirement already satisfied: packaging in /Users/user/opt/anaconda3/lib/python3.9/site-packages (from pytest==6.2.5->veritastool) (21.0)\n",
      "Requirement already satisfied: py>=1.8.2 in /Users/user/opt/anaconda3/lib/python3.9/site-packages (from pytest==6.2.5->veritastool) (1.10.0)\n",
      "Requirement already satisfied: joblib>=0.11 in /Users/user/opt/anaconda3/lib/python3.9/site-packages (from scikit-learn==0.24.2->veritastool) (1.2.0)\n",
      "Requirement already satisfied: threadpoolctl>=2.0.0 in /Users/user/opt/anaconda3/lib/python3.9/site-packages (from scikit-learn==0.24.2->veritastool) (2.2.0)\n",
      "Requirement already satisfied: six in /Users/user/opt/anaconda3/lib/python3.9/site-packages (from cycler>=0.10->matplotlib==3.4.3->veritastool) (1.16.0)\n",
      "Requirement already satisfied: tornado<7.0,>=4.2 in /Users/user/opt/anaconda3/lib/python3.9/site-packages (from ipykernel>=4.5.1->ipywidgets==7.6.4->veritastool) (6.1)\n",
      "Requirement already satisfied: jupyter-client<8.0 in /Users/user/opt/anaconda3/lib/python3.9/site-packages (from ipykernel>=4.5.1->ipywidgets==7.6.4->veritastool) (6.1.12)\n",
      "Requirement already satisfied: debugpy<2.0,>=1.0.0 in /Users/user/opt/anaconda3/lib/python3.9/site-packages (from ipykernel>=4.5.1->ipywidgets==7.6.4->veritastool) (1.4.1)\n",
      "Requirement already satisfied: parso<0.9.0,>=0.8.0 in /Users/user/opt/anaconda3/lib/python3.9/site-packages (from jedi>=0.16->IPython==7.27.0->veritastool) (0.8.2)\n",
      "Requirement already satisfied: jupyter-core>=4.6.0 in /Users/user/opt/anaconda3/lib/python3.9/site-packages (from jupyter-client<8.0->ipykernel>=4.5.1->ipywidgets==7.6.4->veritastool) (4.8.1)\n",
      "Requirement already satisfied: pyzmq>=13 in /Users/user/opt/anaconda3/lib/python3.9/site-packages (from jupyter-client<8.0->ipykernel>=4.5.1->ipywidgets==7.6.4->veritastool) (22.2.1)\n",
      "Requirement already satisfied: jsonschema!=2.5.0,>=2.4 in /Users/user/opt/anaconda3/lib/python3.9/site-packages (from nbformat>=4.2.0->ipywidgets==7.6.4->veritastool) (4.17.3)\n",
      "Requirement already satisfied: pyrsistent!=0.17.0,!=0.17.1,!=0.17.2,>=0.14.0 in /Users/user/opt/anaconda3/lib/python3.9/site-packages (from jsonschema!=2.5.0,>=2.4->nbformat>=4.2.0->ipywidgets==7.6.4->veritastool) (0.18.0)\n",
      "Requirement already satisfied: ptyprocess>=0.5 in /Users/user/opt/anaconda3/lib/python3.9/site-packages (from pexpect>4.3->IPython==7.27.0->veritastool) (0.7.0)\n",
      "Requirement already satisfied: wcwidth in /Users/user/opt/anaconda3/lib/python3.9/site-packages (from prompt-toolkit!=3.0.0,!=3.0.1,<3.1.0,>=2.0.0->IPython==7.27.0->veritastool) (0.2.5)\n",
      "Requirement already satisfied: notebook>=4.4.1 in /Users/user/opt/anaconda3/lib/python3.9/site-packages (from widgetsnbextension~=3.5.0->ipywidgets==7.6.4->veritastool) (6.4.5)\n",
      "Requirement already satisfied: jinja2 in /Users/user/opt/anaconda3/lib/python3.9/site-packages (from notebook>=4.4.1->widgetsnbextension~=3.5.0->ipywidgets==7.6.4->veritastool) (3.0.1)\n",
      "Requirement already satisfied: terminado>=0.8.3 in /Users/user/opt/anaconda3/lib/python3.9/site-packages (from notebook>=4.4.1->widgetsnbextension~=3.5.0->ipywidgets==7.6.4->veritastool) (0.9.4)\n",
      "Requirement already satisfied: argon2-cffi in /Users/user/opt/anaconda3/lib/python3.9/site-packages (from notebook>=4.4.1->widgetsnbextension~=3.5.0->ipywidgets==7.6.4->veritastool) (20.1.0)\n",
      "Requirement already satisfied: Send2Trash>=1.5.0 in /Users/user/opt/anaconda3/lib/python3.9/site-packages (from notebook>=4.4.1->widgetsnbextension~=3.5.0->ipywidgets==7.6.4->veritastool) (1.8.0)\n",
      "Requirement already satisfied: prometheus-client in /Users/user/opt/anaconda3/lib/python3.9/site-packages (from notebook>=4.4.1->widgetsnbextension~=3.5.0->ipywidgets==7.6.4->veritastool) (0.11.0)\n",
      "Requirement already satisfied: nbconvert in /Users/user/opt/anaconda3/lib/python3.9/site-packages (from notebook>=4.4.1->widgetsnbextension~=3.5.0->ipywidgets==7.6.4->veritastool) (6.1.0)\n"
     ]
    },
    {
     "name": "stdout",
     "output_type": "stream",
     "text": [
      "Requirement already satisfied: cffi>=1.0.0 in /Users/user/opt/anaconda3/lib/python3.9/site-packages (from argon2-cffi->notebook>=4.4.1->widgetsnbextension~=3.5.0->ipywidgets==7.6.4->veritastool) (1.14.6)\n",
      "Requirement already satisfied: pycparser in /Users/user/opt/anaconda3/lib/python3.9/site-packages (from cffi>=1.0.0->argon2-cffi->notebook>=4.4.1->widgetsnbextension~=3.5.0->ipywidgets==7.6.4->veritastool) (2.20)\n",
      "Requirement already satisfied: MarkupSafe>=2.0 in /Users/user/opt/anaconda3/lib/python3.9/site-packages (from jinja2->notebook>=4.4.1->widgetsnbextension~=3.5.0->ipywidgets==7.6.4->veritastool) (2.1.2)\n",
      "Requirement already satisfied: bleach in /Users/user/opt/anaconda3/lib/python3.9/site-packages (from nbconvert->notebook>=4.4.1->widgetsnbextension~=3.5.0->ipywidgets==7.6.4->veritastool) (4.0.0)\n",
      "Requirement already satisfied: jupyterlab-pygments in /Users/user/opt/anaconda3/lib/python3.9/site-packages (from nbconvert->notebook>=4.4.1->widgetsnbextension~=3.5.0->ipywidgets==7.6.4->veritastool) (0.1.2)\n",
      "Requirement already satisfied: mistune<2,>=0.8.1 in /Users/user/opt/anaconda3/lib/python3.9/site-packages (from nbconvert->notebook>=4.4.1->widgetsnbextension~=3.5.0->ipywidgets==7.6.4->veritastool) (0.8.4)\n",
      "Requirement already satisfied: nbclient<0.6.0,>=0.5.0 in /Users/user/opt/anaconda3/lib/python3.9/site-packages (from nbconvert->notebook>=4.4.1->widgetsnbextension~=3.5.0->ipywidgets==7.6.4->veritastool) (0.5.3)\n",
      "Requirement already satisfied: entrypoints>=0.2.2 in /Users/user/opt/anaconda3/lib/python3.9/site-packages (from nbconvert->notebook>=4.4.1->widgetsnbextension~=3.5.0->ipywidgets==7.6.4->veritastool) (0.3)\n",
      "Requirement already satisfied: defusedxml in /Users/user/opt/anaconda3/lib/python3.9/site-packages (from nbconvert->notebook>=4.4.1->widgetsnbextension~=3.5.0->ipywidgets==7.6.4->veritastool) (0.7.1)\n",
      "Requirement already satisfied: pandocfilters>=1.4.1 in /Users/user/opt/anaconda3/lib/python3.9/site-packages (from nbconvert->notebook>=4.4.1->widgetsnbextension~=3.5.0->ipywidgets==7.6.4->veritastool) (1.4.3)\n",
      "Requirement already satisfied: testpath in /Users/user/opt/anaconda3/lib/python3.9/site-packages (from nbconvert->notebook>=4.4.1->widgetsnbextension~=3.5.0->ipywidgets==7.6.4->veritastool) (0.5.0)\n",
      "Requirement already satisfied: nest-asyncio in /Users/user/opt/anaconda3/lib/python3.9/site-packages (from nbclient<0.6.0,>=0.5.0->nbconvert->notebook>=4.4.1->widgetsnbextension~=3.5.0->ipywidgets==7.6.4->veritastool) (1.5.1)\n",
      "Requirement already satisfied: async-generator in /Users/user/opt/anaconda3/lib/python3.9/site-packages (from nbclient<0.6.0,>=0.5.0->nbconvert->notebook>=4.4.1->widgetsnbextension~=3.5.0->ipywidgets==7.6.4->veritastool) (1.10)\n",
      "Requirement already satisfied: webencodings in /Users/user/opt/anaconda3/lib/python3.9/site-packages (from bleach->nbconvert->notebook>=4.4.1->widgetsnbextension~=3.5.0->ipywidgets==7.6.4->veritastool) (0.5.1)\n"
     ]
    }
   ],
   "source": [
    "!pip install veritastool"
   ]
  },
  {
   "cell_type": "code",
   "execution_count": 25,
   "id": "4d6ecf98",
   "metadata": {},
   "outputs": [],
   "source": [
    "import pandas as pd\n",
    "import numpy as np\n",
    "import warnings\n",
    "warnings.filterwarnings(\"ignore\")\n",
    "from sklearn.linear_model import LogisticRegression\n",
    "from veritastool.util.utility import test_function_cs\n",
    "from veritastool.model import ModelContainer\n",
    "from veritastool.fairness import CreditScoring\n",
    "from typing import *"
   ]
  },
  {
   "cell_type": "markdown",
   "id": "ee01ea0a",
   "metadata": {},
   "source": [
    "### Create the FairnessMetricsEvaluator class"
   ]
  },
  {
   "cell_type": "code",
   "execution_count": 26,
   "id": "6b61ea5b",
   "metadata": {},
   "outputs": [],
   "source": [
    "class FairnessMetricsEvaluator:\n",
    "    \n",
    "    def __init__(self,\n",
    "                 train_data: Dict[str, Union[pd.DataFrame, np.ndarray]],\n",
    "                 test_data: Dict[str, Union[pd.DataFrame, np.ndarray]],\n",
    "                 best_threshold : float,\n",
    "                 cat_var_list: [str],\n",
    "                 prot_cat_var_value: Dict[str,List[str]],\n",
    "                 fairthreshold: float,\n",
    "                 perf_metric_name: str,\n",
    "                 model_object):\n",
    "        \"\"\"\n",
    "        train_data['raw_X'] : All the feature values in training set.\n",
    "        train_data['y'] : Ground truth for training data.\n",
    "        train_data['pred_proba'] : Predicted targets as returned by classifier.\n",
    "        test_data['raw_X'] : All the feature values in testing set.\n",
    "        test_data['y'] : Ground truth for training data.\n",
    "        test_data['pred_proba'] : Predicted targets as returned by classifier.\n",
    "        threshold : The threshold to be used for predicting labels. \n",
    "        prot_cat_var_value: python dict where the key is string and \n",
    "        value is a list of string. The key is the name of the categorical varible \n",
    "        and the value is the name of the protected group.\n",
    "        fairthreshold: the threshold for justify a feature is fairness or not.\n",
    "        perf_metric_name: The metric for choosing the best performance. Can be selected \n",
    "        from ['selection_rate', 'accuracy', 'balanced_acc', 'recall', 'precision', \n",
    "        'f1_score', 'tnr', 'fnr', 'npv', 'roc_auc', 'log_loss']\n",
    "        model_object : an sklearn base estimator object. \n",
    "        \"\"\"\n",
    "        \n",
    "        self.train_raw_X = train_data['raw_X']\n",
    "        self.train_y = train_data['y']\n",
    "        self.train_proba = train_data['pred_proba']\n",
    "        self.test_raw_X = test_data['raw_X']\n",
    "        self.test_y = test_data['y']\n",
    "        self.test_proba = test_data['pred_proba']\n",
    "        self.best_threshold = best_threshold\n",
    "        self.fairthreshold = fairthreshold\n",
    "        self.perf_metric_name = perf_metric_name\n",
    "        self.model_object = model_object\n",
    "    \n",
    "        # initialize the credit scoring function\n",
    "        test_function_cs()\n",
    "        self.test_preds = np.where(self.test_proba > self.best_threshold, 1, 0)\n",
    "        \n",
    "        # pass in the data and model info\n",
    "        self.p_var = cat_var_list\n",
    "        self.p_grp = prot_cat_var_value\n",
    "        \n",
    "        # define the model container \n",
    "        self.container = ModelContainer(y_true = self.test_y,\n",
    "                                        p_grp = self.p_grp, \n",
    "                                        p_var = self.p_var,\n",
    "                                        y_pred= self.test_preds, \n",
    "                               y_train = self.train_y,\n",
    "                               y_prob= self.test_proba,\n",
    "                               x_train = self.train_raw_X,  \n",
    "                               x_test = self.test_raw_X, \n",
    "                               model_object = self.model_object,\n",
    "                               model_type = 'credit')\n",
    "\n",
    "        self.cre_sco_obj= CreditScoring(model_params = [self.container], \n",
    "                                   fair_threshold = self.fairthreshold,\n",
    "                                   perf_metric_name = self.perf_metric_name)\n",
    "            \n",
    "    def cat_ft_evaluation(self, is_visual):\n",
    "        \"\"\"\n",
    "        is_visual: A boolean value that control the visualization mode\n",
    "        \"\"\"\n",
    "        return self.cre_sco_obj.evaluate(visualize = is_visual)\n",
    "        \n",
    "    def trade_off_evaluation(self):\n",
    "        return self.cre_sco_obj.tradeoff()"
   ]
  },
  {
   "cell_type": "markdown",
   "id": "d0e7c467",
   "metadata": {},
   "source": [
    "### Function Testing "
   ]
  },
  {
   "cell_type": "code",
   "execution_count": 27,
   "id": "a9b75ee3",
   "metadata": {},
   "outputs": [],
   "source": [
    "test_set = pd.read_csv('../../../data/stage_2/loanstats_2019Q1_test.csv', index_col = False)\n",
    "train_set = pd.read_csv('../../../data/stage_2/loanstats_2019Q1_train.csv', index_col = False)\n",
    "test_prob = pd.read_csv('../../../data/stage_2/loanstats_test_proba.csv', index_col = False)\n",
    "train_prob = pd.read_csv('../../../data/stage_2/loanstats_train_proba.csv', index_col = False)\n",
    "train_set['probability'] = train_prob['probability']\n",
    "test_set['probability'] = test_prob['probability']"
   ]
  },
  {
   "cell_type": "code",
   "execution_count": 28,
   "id": "6ca9d16e",
   "metadata": {},
   "outputs": [],
   "source": [
    "train_set.loc[(train_set['probability'] >= 0.5), 'pred_label'] = 1\n",
    "train_set.loc[(train_set['probability'] < 0.5), 'pred_label'] = 0\n",
    "test_set.loc[(test_set['probability'] >= 0.5), 'pred_label'] = 1\n",
    "test_set.loc[(test_set['probability'] < 0.5), 'pred_label'] = 0"
   ]
  },
  {
   "cell_type": "code",
   "execution_count": 29,
   "id": "f15b9136",
   "metadata": {},
   "outputs": [],
   "source": [
    "# define the name of the feature name list\n",
    "all_feature_list = ['loan_amnt', 'int_rate', 'installment', 'home_ownership', 'annual_inc',\n",
    "       'verification_status','dti', 'delinq_2yrs',\n",
    "       'inq_last_6mths', 'open_acc', 'pub_rec', 'revol_bal', 'total_acc',\n",
    "       'initial_list_status', 'out_prncp', 'out_prncp_inv', 'total_pymnt',\n",
    "       'total_pymnt_inv', 'total_rec_prncp', 'total_rec_int',\n",
    "       'total_rec_late_fee', 'last_pymnt_amnt', 'collections_12_mths_ex_med',\n",
    "       'application_type', 'tot_coll_amt', 'tot_cur_bal', 'open_acc_6m',\n",
    "       'open_act_il', 'open_il_12m', 'open_il_24m', 'mths_since_rcnt_il',\n",
    "       'total_bal_il', 'il_util', 'open_rv_12m', 'open_rv_24m', 'max_bal_bc',\n",
    "       'all_util', 'total_rev_hi_lim', 'inq_fi', 'total_cu_tl', 'inq_last_12m',\n",
    "       'acc_open_past_24mths', 'avg_cur_bal', 'bc_open_to_buy', 'bc_util',\n",
    "       'delinq_amnt', 'mo_sin_old_il_acct', 'mo_sin_old_rev_tl_op',\n",
    "       'mo_sin_rcnt_rev_tl_op', 'mo_sin_rcnt_tl', 'mort_acc',\n",
    "       'mths_since_recent_bc', 'mths_since_recent_inq',\n",
    "       'num_accts_ever_120_pd', 'num_actv_bc_tl', 'num_actv_rev_tl',\n",
    "       'num_bc_sats', 'num_bc_tl', 'num_il_tl', 'num_op_rev_tl',\n",
    "       'num_rev_accts', 'num_rev_tl_bal_gt_0', 'num_sats',\n",
    "       'num_tl_90g_dpd_24m', 'num_tl_op_past_12m', 'pct_tl_nvr_dlq',\n",
    "       'percent_bc_gt_75', 'pub_rec_bankruptcies', 'tax_liens',\n",
    "       'tot_hi_cred_lim', 'total_bal_ex_mort', 'total_bc_limit',\n",
    "       'total_il_high_credit_limit', 'hardship_flag', 'debt_settlement_flag']\n",
    "X_train = train_set[all_feature_list]\n",
    "X_test = test_set[all_feature_list]"
   ]
  },
  {
   "cell_type": "code",
   "execution_count": 30,
   "id": "835e81f6",
   "metadata": {},
   "outputs": [],
   "source": [
    "# format the data input\n",
    "train_data = {'raw_X': X_train,\n",
    "             'y': train_set['loan_status'],\n",
    "             'pred_proba': train_set['probability']}\n",
    "test_data = {'raw_X': X_test,\n",
    "             'y': test_set['loan_status'],\n",
    "             'pred_proba': test_set['probability']}"
   ]
  },
  {
   "cell_type": "code",
   "execution_count": 31,
   "id": "be331211",
   "metadata": {},
   "outputs": [
    {
     "data": {
      "application/vnd.jupyter.widget-view+json": {
       "model_id": "0ca8bd3bf6644edf9558d301c51090eb",
       "version_major": 2,
       "version_minor": 0
      },
      "text/plain": [
       "Evaluate performance:   0%|          "
      ]
     },
     "metadata": {},
     "output_type": "display_data"
    },
    {
     "name": "stdout",
     "output_type": "stream",
     "text": [
      "\n",
      "Evaluation of credit scoring performed normally\n"
     ]
    }
   ],
   "source": [
    "# create a class instance\n",
    "test_class = FairnessMetricsEvaluator(train_data=train_data,\n",
    "                                      test_data=test_data,\n",
    "                                      best_threshold=0.5,\n",
    "                                      cat_var_list=\n",
    "                                      [\"home_ownership\", \"verification_status\",\n",
    "                                       \"initial_list_status\", \"application_type\"],\n",
    "                                      prot_cat_var_value=\n",
    "                                      {'home_ownership': ['RENT'], \n",
    "                                       'verification_status':['Not Verified'], \n",
    "                                       'initial_list_status':['w'],\n",
    "                                       \"application_type\":['Individual']\n",
    "                                      },\n",
    "                                      fairthreshold=0.4,\n",
    "                                      perf_metric_name=\"f1_score\",\n",
    "                                      model_object=LogisticRegression())               "
   ]
  },
  {
   "cell_type": "code",
   "execution_count": 32,
   "id": "1c5ad5e7",
   "metadata": {
    "scrolled": false
   },
   "outputs": [
    {
     "data": {
      "application/vnd.jupyter.widget-view+json": {
       "model_id": "e7663471cdcc4383a77321cb887408c6",
       "version_major": 2,
       "version_minor": 0
      },
      "text/plain": [
       "Evaluate performance:   0%|          "
      ]
     },
     "metadata": {},
     "output_type": "display_data"
    },
    {
     "name": "stdout",
     "output_type": "stream",
     "text": [
      "\n",
      "Class Distribution\n",
      "\tpos_label                                                           0.523%\n",
      "\tneg_label                                                          99.477%\n",
      "\n",
      "\n",
      "Performance Metrics\n",
      "\tSelection Rate                                             0.004 +/- 0.001\n",
      "\tAccuracy                                                   0.996 +/- 0.001\n",
      "\tBalanced Accuracy                                          0.723 +/- 0.057\n",
      "\tRecall                                                     0.447 +/- 0.115\n",
      "\tPrecision                                                  0.630 +/- 0.120\n",
      "\u001b[1m\tF1 Score                                                   0.523 +/- 0.103\u001b[0m\n",
      "\tTrue Negative Rate                                         0.999 +/- 0.001\n",
      "\tFalse Negative Rate                                        0.553 +/- 0.115\n",
      "\tNegative Predictive Value                                  0.997 +/- 0.001\n",
      "\tROC AUC Score                                              0.823 +/- 0.070\n",
      "\tLog-loss                                                   0.226 +/- 0.002\n",
      "\n",
      "\n",
      "Probability Calibration\n",
      "\tBrier Loss Score                                                     0.044\n",
      "\n",
      "\n",
      "Primary Fairness Metric Suggestion\n",
      "\tEqual Opportunity\n",
      "based on\n",
      "\tfair_priority = benefit\n",
      "\tfair_concern = eligible\n",
      "\tfair_impact = normal\n",
      "\n",
      "\n",
      "-----------------------------------1: Home_Ownership----------------------------\n",
      "Value Distribution\n",
      "\tPrivileged Group                                                   35.544%\n",
      "\tUnprivileged Group                                                 64.456%\n",
      "\n",
      "\n",
      "Fairness Metrics\n",
      "\tDisparate Impact                                           0.764 +/- 0.532\n",
      "\tDemographic Parity                                        -0.001 +/- 0.002\n",
      "\u001b[1m\tEqual Opportunity                                          0.053 +/- 0.261\u001b[0m\n",
      "\tFalse Positive Rate Parity                                -0.001 +/- 0.001\n",
      "\tTrue Negative Rate Parity                                  0.001 +/- 0.001\n",
      "\tFalse Negative Rate Parity                                -0.053 +/- 0.261\n",
      "\tPositive Predictive Parity                                 0.260 +/- 0.284\n",
      "\tNegative Predictive Parity                                 0.000 +/- 0.002\n",
      "\tFalse Discovery Rate Parity                               -0.260 +/- 0.284\n",
      "\tFalse Omission Rate Parity                                -0.000 +/- 0.002\n",
      "\tEqualized Odds                                             0.026 +/- 0.130\n",
      "\tNegative Equalized Odds                                   -0.026 +/- 0.130\n",
      "\tCalibration by Group                                       0.130 +/- 0.142\n",
      "\tAUC Parity                                                 0.008 +/- 0.110\n",
      "\tLog-loss Parity                                           -0.005 +/- 0.004\n",
      "\tMutual Information Independence                            0.000 +/- 0.000\n",
      "\tMutual Information Separation                              0.920 +/- 0.015\n",
      "\tMutual Information Sufficiency                             0.000 +/- 0.001\n",
      "\n",
      "\n",
      "Fairness Conclusion\n",
      "\tOutcome (Equal Opportunity)                                           Fair*\n",
      "\tFairness Threshold                                                     0.4\n",
      "\n",
      "\n",
      "-----------------------------------2: Verification_Status-----------------------\n",
      "Value Distribution\n",
      "\tPrivileged Group                                                   47.768%\n",
      "\tUnprivileged Group                                                 52.232%\n",
      "\n",
      "\n",
      "Fairness Metrics\n",
      "\tDisparate Impact                                           0.875 +/- 0.509\n",
      "\tDemographic Parity                                        -0.000 +/- 0.002\n",
      "\u001b[1m\tEqual Opportunity                                          0.120 +/- 0.236\u001b[0m\n",
      "\tFalse Positive Rate Parity                                -0.001 +/- 0.001\n",
      "\tTrue Negative Rate Parity                                  0.001 +/- 0.001\n",
      "\tFalse Negative Rate Parity                                -0.120 +/- 0.236\n",
      "\tPositive Predictive Parity                                 0.142 +/- 0.261\n",
      "\tNegative Predictive Parity                                 0.001 +/- 0.002\n",
      "\tFalse Discovery Rate Parity                               -0.142 +/- 0.261\n",
      "\tFalse Omission Rate Parity                                -0.001 +/- 0.002\n",
      "\tEqualized Odds                                             0.060 +/- 0.118\n",
      "\tNegative Equalized Odds                                   -0.060 +/- 0.118\n",
      "\tCalibration by Group                                       0.070 +/- 0.130\n",
      "\tAUC Parity                                                 0.004 +/- 0.124\n",
      "\tLog-loss Parity                                           -0.021 +/- 0.005\n",
      "\tMutual Information Independence                            0.000 +/- 0.000\n",
      "\tMutual Information Separation                              0.924 +/- 0.014\n",
      "\tMutual Information Sufficiency                             0.000 +/- 0.000\n",
      "\n",
      "\n",
      "Fairness Conclusion\n",
      "\tOutcome (Equal Opportunity)                                           Fair*\n",
      "\tFairness Threshold                                                     0.4\n",
      "\n",
      "\n",
      "-----------------------------------3: Initial_List_Status-----------------------\n",
      "Value Distribution\n",
      "\tPrivileged Group                                                   87.659%\n",
      "\tUnprivileged Group                                                 12.341%\n",
      "\n",
      "\n",
      "Fairness Metrics\n",
      "\tDisparate Impact                                           1.760 +/- 2.849\n",
      "\tDemographic Parity                                         0.002 +/- 0.003\n",
      "\u001b[1m\tEqual Opportunity                                          0.234 +/- 0.288\u001b[0m\n",
      "\tFalse Positive Rate Parity                                 0.001 +/- 0.001\n",
      "\tTrue Negative Rate Parity                                 -0.001 +/- 0.001\n",
      "\tFalse Negative Rate Parity                                -0.234 +/- 0.288\n",
      "\tPositive Predictive Parity                                -0.130 +/- 0.438\n",
      "\tNegative Predictive Parity                                 0.002 +/- 0.003\n",
      "\tFalse Discovery Rate Parity                                0.130 +/- 0.438\n",
      "\tFalse Omission Rate Parity                                -0.002 +/- 0.003\n",
      "\tEqualized Odds                                             0.118 +/- 0.144\n",
      "\tNegative Equalized Odds                                   -0.118 +/- 0.144\n",
      "\tCalibration by Group                                      -0.066 +/- 0.219\n",
      "\tAUC Parity                                                -0.004 +/- 0.127\n",
      "\tLog-loss Parity                                           -0.008 +/- 0.006\n",
      "\tMutual Information Independence                            0.000 +/- 0.000\n",
      "\tMutual Information Separation                              0.865 +/- 0.025\n",
      "\tMutual Information Sufficiency                             0.000 +/- 0.001\n",
      "\n",
      "\n",
      "Fairness Conclusion\n",
      "\tOutcome (Equal Opportunity)                                           Fair*\n",
      "\tFairness Threshold                                                     0.4\n",
      "\n",
      "\n",
      "-----------------------------------4: Application_Type--------------------------\n",
      "Value Distribution\n",
      "\tPrivileged Group                                                   86.497%\n",
      "\tUnprivileged Group                                                 13.503%\n",
      "\n",
      "\n",
      "Fairness Metrics\n",
      "\tDisparate Impact                                           1.249 +/- 2.807\n",
      "\tDemographic Parity                                         0.001 +/- 0.003\n",
      "\u001b[1m\tEqual Opportunity                                         -0.163 +/- 0.530\u001b[0m\n",
      "\tFalse Positive Rate Parity                                -0.000 +/- 0.002\n",
      "\tTrue Negative Rate Parity                                  0.000 +/- 0.002\n",
      "\tFalse Negative Rate Parity                                 0.163 +/- 0.530\n",
      "\tPositive Predictive Parity                                 0.146 +/- 0.551\n",
      "\tNegative Predictive Parity                                -0.002 +/- 0.002\n",
      "\tFalse Discovery Rate Parity                               -0.146 +/- 0.551\n",
      "\tFalse Omission Rate Parity                                 0.002 +/- 0.002\n",
      "\tEqualized Odds                                            -0.082 +/- 0.265\n",
      "\tNegative Equalized Odds                                    0.082 +/- 0.265\n",
      "\tCalibration by Group                                       0.074 +/- 0.276\n",
      "\tAUC Parity                                                 0.039 +/- 0.376\n",
      "\tLog-loss Parity                                           -0.015 +/- 0.006\n",
      "\tMutual Information Independence                            0.000 +/- 0.000\n",
      "\tMutual Information Separation                              0.872 +/- 0.024\n",
      "\tMutual Information Sufficiency                             0.000 +/- 0.000\n",
      "\n",
      "\n",
      "Fairness Conclusion\n",
      "\tOutcome (Equal Opportunity)                                           Fair*\n",
      "\tFairness Threshold                                                     0.4\n",
      "\n",
      "\n",
      "* The outcome is calculated based on your inputs and is provided for informational purposes only. Should you decide to act upon the information herein, you do so at your own risk and Veritas Toolkit will not be liable or responsible in any way. \n"
     ]
    }
   ],
   "source": [
    "test_class.cat_ft_evaluation(False)"
   ]
  },
  {
   "cell_type": "markdown",
   "id": "82b39d32",
   "metadata": {},
   "source": [
    "- The primary fairness metric will be suggested by this tool\n",
    "- The conclusion about whether the feature is fair or not is based on the suggested primary fairness metric.\n",
    "- The statistics for each fairness metrics is displayed on the right together with the range of error term. \n",
    "- for equal oppotunity, if the value is larger than threshold, then means that the TPR in the protected group and unprotected group is quite different. But for Disparate Impact, it should be the close to 1, the better."
   ]
  },
  {
   "cell_type": "code",
   "execution_count": 33,
   "id": "98d4fc0d",
   "metadata": {
    "scrolled": true
   },
   "outputs": [
    {
     "data": {
      "text/html": [
       "\n",
       "                            <style>\n",
       "                                .dropdown_clr {\n",
       "                                    background-color: #E2F0D9;\n",
       "                                }\n",
       "                                .fair_green{\n",
       "                                    width:auto;\n",
       "                                    background-color:#E2F0D9;\n",
       "                                }\n",
       "                                .perf_blue {\n",
       "                                    width:auto;\n",
       "                                    background-color:#DEEBF7;\n",
       "                                }\n",
       "                            </style>\n",
       "                            "
      ],
      "text/plain": [
       "<IPython.core.display.HTML object>"
      ]
     },
     "metadata": {},
     "output_type": "display_data"
    },
    {
     "data": {
      "application/vnd.jupyter.widget-view+json": {
       "model_id": "30d762830125400eb4eee1b3443965d9",
       "version_major": 2,
       "version_minor": 0
      },
      "text/plain": [
       "VBox(children=(VBox(children=(VBox(children=(HBox(children=(HTML(value='<div style=\"color:black; text-align:le…"
      ]
     },
     "metadata": {},
     "output_type": "display_data"
    },
    {
     "name": "stdout",
     "output_type": "stream",
     "text": [
      "*The threshold and the values of ratio-based metrics are shifted down by 1.\n"
     ]
    }
   ],
   "source": [
    "test_class.cat_ft_evaluation(True)"
   ]
  },
  {
   "cell_type": "code",
   "execution_count": 34,
   "id": "6c82ceda",
   "metadata": {
    "scrolled": true
   },
   "outputs": [
    {
     "data": {
      "application/vnd.jupyter.widget-view+json": {
       "model_id": "09051ec8331f4e5cb46ad37c9fb507c5",
       "version_major": 2,
       "version_minor": 0
      },
      "text/plain": [
       "Tradeoff:   0%|          "
      ]
     },
     "metadata": {},
     "output_type": "display_data"
    },
    {
     "name": "stdout",
     "output_type": "stream",
     "text": [
      "\n",
      "-------------------------- 1. home_ownership  --------------------------\n",
      "Performance versus Fairness Trade-Off\n",
      "\t Single Threshold\n",
      "\t\tPrivileged/Unprivileged Threshold                 0.500\n",
      "\t\tBest f1_score*                                    0.499\n",
      "\t Separated Thresholds\n",
      "\t\tPrivileged Threshold                              0.615\n",
      "\t\tUnprivileged Threshold                            0.658\n",
      "\t\tBest f1_score*                                    0.539\n",
      "\t Separated Thresholds under Neutral Fairness (0.001)\n",
      "\t\tPrivileged Threshold                              0.643\n",
      "\t\tUnprivileged Threshold                            0.500\n",
      "\t\tBest f1_score*                                    0.526\n",
      "\t\t*estimated by approximation, subject to the resolution of mesh grid\n",
      "\n",
      "------------------------ 2. verification_status ------------------------\n",
      "Performance versus Fairness Trade-Off\n",
      "\t Single Threshold\n",
      "\t\tPrivileged/Unprivileged Threshold                 0.500\n",
      "\t\tBest f1_score*                                    0.501\n",
      "\t Separated Thresholds\n",
      "\t\tPrivileged Threshold                              0.615\n",
      "\t\tUnprivileged Threshold                            0.500\n",
      "\t\tBest f1_score*                                    0.540\n",
      "\t Separated Thresholds under Neutral Fairness (0.001)\n",
      "\t\tPrivileged Threshold                              0.699\n",
      "\t\tUnprivileged Threshold                            0.418\n",
      "\t\tBest f1_score*                                    0.469\n",
      "\t\t*estimated by approximation, subject to the resolution of mesh grid\n",
      "\n",
      "------------------------ 3. initial_list_status ------------------------\n",
      "Performance versus Fairness Trade-Off\n",
      "\t Single Threshold\n",
      "\t\tPrivileged/Unprivileged Threshold                 0.336\n",
      "\t\tBest f1_score*                                    0.530\n",
      "\t Separated Thresholds\n",
      "\t\tPrivileged Threshold                              0.615\n",
      "\t\tUnprivileged Threshold                            0.309\n",
      "\t\tBest f1_score*                                    0.559\n",
      "\t Separated Thresholds under Neutral Fairness (0.001)\n",
      "\t\tPrivileged Threshold                              0.500\n",
      "\t\tUnprivileged Threshold                            0.336\n",
      "\t\tBest f1_score*                                    0.540\n",
      "\t\t*estimated by approximation, subject to the resolution of mesh grid\n",
      "\n",
      "------------------------- 4. application_type  -------------------------\n",
      "Performance versus Fairness Trade-Off\n",
      "\t Single Threshold\n",
      "\t\tPrivileged/Unprivileged Threshold                 0.500\n",
      "\t\tBest f1_score*                                    0.526\n",
      "\t Separated Thresholds\n",
      "\t\tPrivileged Threshold                              0.615\n",
      "\t\tUnprivileged Threshold                            0.672\n",
      "\t\tBest f1_score*                                    0.535\n",
      "\t Separated Thresholds under Neutral Fairness (0.001)\n",
      "\t\tPrivileged Threshold                              0.388\n",
      "\t\tUnprivileged Threshold                            0.699\n",
      "\t\tBest f1_score*                                    0.352\n",
      "\t\t*estimated by approximation, subject to the resolution of mesh grid\n",
      "\n"
     ]
    }
   ],
   "source": [
    "test_class.trade_off_evaluation()"
   ]
  },
  {
   "cell_type": "markdown",
   "id": "c9583589",
   "metadata": {},
   "source": [
    "- Theoretically, the single threshold should be the same among all the groups.\n",
    "- The separated thresholds are displayed for privileged group and unprivileged group accordingly.    "
   ]
  },
  {
   "cell_type": "code",
   "execution_count": null,
   "id": "3b98e9d6",
   "metadata": {},
   "outputs": [],
   "source": []
  }
 ],
 "metadata": {
  "kernelspec": {
   "display_name": "Python 3 (ipykernel)",
   "language": "python",
   "name": "python3"
  },
  "language_info": {
   "codemirror_mode": {
    "name": "ipython",
    "version": 3
   },
   "file_extension": ".py",
   "mimetype": "text/x-python",
   "name": "python",
   "nbconvert_exporter": "python",
   "pygments_lexer": "ipython3",
   "version": "3.9.7"
  }
 },
 "nbformat": 4,
 "nbformat_minor": 5
}
