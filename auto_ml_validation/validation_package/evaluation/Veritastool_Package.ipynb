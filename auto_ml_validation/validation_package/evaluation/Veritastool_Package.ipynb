{
 "cells": [
  {
   "cell_type": "code",
   "execution_count": 4,
   "id": "4d6ecf98",
   "metadata": {},
   "outputs": [],
   "source": [
    "import pandas as pd\n",
    "import numpy as np\n",
    "import warnings\n",
    "warnings.filterwarnings(\"ignore\")\n",
    "from sklearn.pipeline import Pipeline\n",
    "from sklearn.preprocessing import StandardScaler\n",
    "from sklearn.linear_model import LogisticRegression\n",
    "from veritastool.util.utility import test_function_cs\n",
    "from veritastool.model import ModelContainer\n",
    "from veritastool.fairness import CreditScoring\n",
    "from typing import *\n",
    "from sklearn.tree import DecisionTreeClassifier\n",
    "from auto_ml_validation.validation_package.utils import instantiate_clf"
   ]
  },
  {
   "cell_type": "code",
   "execution_count": null,
   "id": "4e00c769",
   "metadata": {},
   "outputs": [],
   "source": [
    "# perf_metric_name = \"balanced_acc\""
   ]
  },
  {
   "cell_type": "code",
   "execution_count": 5,
   "id": "6b61ea5b",
   "metadata": {},
   "outputs": [],
   "source": [
    "class FairnessMetricsEvaluator:\n",
    "    \n",
    "    def __init__(self,\n",
    "                 train_data: Dict[str, Union[pd.DataFrame, np.ndarray]],\n",
    "                 test_data: Dict[str, Union[pd.DataFrame, np.ndarray]],\n",
    "                 threshold: float,\n",
    "                 cat_var_list: List[str],\n",
    "                 algo: str,\n",
    "                 params: Dict,\n",
    "                 prot_cat_var_value: Dict[str,List[str]], \n",
    "                 fairthreshold: float,\n",
    "                 perf_metric_name: str,\n",
    "                 fair_metric_name: str\n",
    "                ):\n",
    "            self.train_raw_X = train_data['raw_X']\n",
    "            self.train_y = train_data['y']\n",
    "            self.train_proba = train_data['pred_proba']\n",
    "            self.test_raw_X = test_data['raw_X']\n",
    "            self.test_y = test_data['y']\n",
    "            self.test_proba = test_data['pred_proba']\n",
    "            self.threshold = threshold\n",
    "            self.cat_var_list = cat_var_list\n",
    "            self.algo = algo\n",
    "            self.params = params\n",
    "            self.prot_cat_var_value = prot_cat_var_value\n",
    "            self.fairthreshold = fairthreshold\n",
    "            self.perf_metric_name = perf_metric_name\n",
    "            self.fair_metric_name = fair_metric_name\n",
    "    \n",
    "    def fairness_visualization(self):\n",
    "        \"\"\"\n",
    "        X_train : All the feature values in training set.\n",
    "        X_test : All the feature values in testing set.\n",
    "        y_true : Ground truth target values.\n",
    "        y_pred : Predicted targets as returned by classifier.\n",
    "        y_train : Ground truth for training data.\n",
    "        y_prob : Predicted probabilities as returned by classifier. \n",
    "        cat_var_list: list of names for all the categorical variable. \n",
    "        prot_cat_var_value: a python dict where the key is string and value is a list of string. \n",
    "        model : an sklearn pipeline object. \n",
    "        \"\"\"\n",
    "\n",
    "        test_function_cs()\n",
    "\n",
    "        # pass in the data and model info\n",
    "        y_pred = self.test_proba.apply(lambda x: 1 if x>=self.threshold else 0)\n",
    "        p_var = self.cat_var_list\n",
    "        p_grp = self.prot_cat_var_value\n",
    "        model_object = instantiate_clf(self.algo, self.params)\n",
    "        \n",
    "        container = ModelContainer(y_true = self.test_y, \n",
    "                                   y_train = self.train_y, \n",
    "                                   p_var = p_var, \n",
    "                                   p_grp = p_grp, \n",
    "                                   x_train = self.train_raw_X,  \n",
    "                                   x_test = self.test_raw_X, \n",
    "                                   model_object = model_object, \n",
    "                                   y_pred= y_pred, \n",
    "                                   y_prob= self.test_proba,\n",
    "                                   model_type = 'credit')\n",
    "\n",
    "        cre_sco_obj= CreditScoring(model_params = [container], \n",
    "                                   fair_threshold = self.fairthreshold, \n",
    "                                   fair_concern = \"eligible\", \n",
    "                                   fair_priority = \"benefit\", \n",
    "                                   fair_impact = \"significant\", \n",
    "                                   perf_metric_name = self.perf_metric_name, \n",
    "                                   fair_metric_name = self.fair_metric_name) \n",
    "        \n",
    "        cre_sco_obj.evaluate()\n",
    "        \n",
    "        cre_sco_obj.evaluate(visualize = True)   \n",
    "        \n",
    "        cre_sco_obj.tradeoff()"
   ]
  },
  {
   "cell_type": "markdown",
   "id": "d0e7c467",
   "metadata": {},
   "source": [
    "### Function Testing "
   ]
  },
  {
   "cell_type": "code",
   "execution_count": 14,
   "id": "a9b75ee3",
   "metadata": {},
   "outputs": [],
   "source": [
    "test_set = pd.read_csv('../../../data/stage_2/loanstats_2019Q1_test.csv', index_col = False)\n",
    "train_set = pd.read_csv('../../../data/stage_2/loanstats_2019Q1_train.csv', index_col = False)\n",
    "test_prob = pd.read_csv('../../../data/stage_2/loanstats_test_proba.csv', index_col = False)\n",
    "train_prob = pd.read_csv('../../../data/stage_2/loanstats_train_proba.csv', index_col = False)\n",
    "train_set['probability'] = train_prob['probability']\n",
    "test_set['probability'] = test_prob['probability']"
   ]
  },
  {
   "cell_type": "code",
   "execution_count": 15,
   "id": "6ca9d16e",
   "metadata": {},
   "outputs": [],
   "source": [
    "train_set.loc[(train_set['probability'] >= 0.5), 'pred_label'] = 1\n",
    "train_set.loc[(train_set['probability'] < 0.5), 'pred_label'] = 0\n",
    "test_set.loc[(test_set['probability'] >= 0.5), 'pred_label'] = 1\n",
    "test_set.loc[(test_set['probability'] < 0.5), 'pred_label'] = 0"
   ]
  },
  {
   "cell_type": "code",
   "execution_count": 16,
   "id": "f15b9136",
   "metadata": {},
   "outputs": [],
   "source": [
    "all_feature_list = ['loan_amnt', 'int_rate', 'installment', 'home_ownership', 'annual_inc',\n",
    "       'verification_status','dti', 'delinq_2yrs',\n",
    "       'inq_last_6mths', 'open_acc', 'pub_rec', 'revol_bal', 'total_acc',\n",
    "       'initial_list_status', 'out_prncp', 'out_prncp_inv', 'total_pymnt',\n",
    "       'total_pymnt_inv', 'total_rec_prncp', 'total_rec_int',\n",
    "       'total_rec_late_fee', 'last_pymnt_amnt', 'collections_12_mths_ex_med',\n",
    "       'application_type', 'tot_coll_amt', 'tot_cur_bal', 'open_acc_6m',\n",
    "       'open_act_il', 'open_il_12m', 'open_il_24m', 'mths_since_rcnt_il',\n",
    "       'total_bal_il', 'il_util', 'open_rv_12m', 'open_rv_24m', 'max_bal_bc',\n",
    "       'all_util', 'total_rev_hi_lim', 'inq_fi', 'total_cu_tl', 'inq_last_12m',\n",
    "       'acc_open_past_24mths', 'avg_cur_bal', 'bc_open_to_buy', 'bc_util',\n",
    "       'delinq_amnt', 'mo_sin_old_il_acct', 'mo_sin_old_rev_tl_op',\n",
    "       'mo_sin_rcnt_rev_tl_op', 'mo_sin_rcnt_tl', 'mort_acc',\n",
    "       'mths_since_recent_bc', 'mths_since_recent_inq',\n",
    "       'num_accts_ever_120_pd', 'num_actv_bc_tl', 'num_actv_rev_tl',\n",
    "       'num_bc_sats', 'num_bc_tl', 'num_il_tl', 'num_op_rev_tl',\n",
    "       'num_rev_accts', 'num_rev_tl_bal_gt_0', 'num_sats',\n",
    "       'num_tl_90g_dpd_24m', 'num_tl_op_past_12m', 'pct_tl_nvr_dlq',\n",
    "       'percent_bc_gt_75', 'pub_rec_bankruptcies', 'tax_liens',\n",
    "       'tot_hi_cred_lim', 'total_bal_ex_mort', 'total_bc_limit',\n",
    "       'total_il_high_credit_limit', 'hardship_flag', 'debt_settlement_flag']\n",
    "X_train = train_set[all_feature_list]\n",
    "X_test = test_set[all_feature_list]"
   ]
  },
  {
   "cell_type": "code",
   "execution_count": 17,
   "id": "835e81f6",
   "metadata": {},
   "outputs": [],
   "source": [
    "train_data = {'raw_X': X_train,\n",
    "             'y': train_set['loan_status'],\n",
    "             'pred_proba': train_set['probability']}\n",
    "test_data = {'raw_X': X_test,\n",
    "             'y': test_set['loan_status'],\n",
    "             'pred_proba': test_set['probability']}"
   ]
  },
  {
   "cell_type": "code",
   "execution_count": 22,
   "id": "be331211",
   "metadata": {},
   "outputs": [],
   "source": [
    "test_class = FairnessMetricsEvaluator(train_data,\n",
    "                                      test_data,\n",
    "                                      0.5,\n",
    "                                      [\"home_ownership\", \"verification_status\",\n",
    "                                       \"initial_list_status\", \"application_type\"],\n",
    "                                      'rf',\n",
    "                                      {\n",
    "                                                \"n_estimators\": 100,\n",
    "                                                \"criterion\": \"gini\",\n",
    "                                                \"max_depth\": 8,\n",
    "                                                \"random_state\": 42,\n",
    "                                                \"class_weight\": \"balanced\"\n",
    "                                            },\n",
    "                                      {'home_ownership': ['RENT'], \n",
    "                                       'verification_status':['Not Verified'], \n",
    "                                       'initial_list_status':['w'],\n",
    "                                       \"application_type\":['Individual']\n",
    "                                      },\n",
    "                                      0.5,\n",
    "                                      \"balanced_acc\", \n",
    "                                      \"equal_opportunity\"\n",
    ")               "
   ]
  },
  {
   "cell_type": "code",
   "execution_count": 23,
   "id": "2c7eca31",
   "metadata": {
    "scrolled": false
   },
   "outputs": [
    {
     "name": "stderr",
     "output_type": "stream",
     "text": [
      "Evaluate: 100%|██████████            "
     ]
    },
    {
     "name": "stdout",
     "output_type": "stream",
     "text": [
      "\n"
     ]
    },
    {
     "name": "stderr",
     "output_type": "stream",
     "text": [
      "\n",
      "Traceback (most recent call last):\n",
      "  File \"/Users/user/Library/Caches/pypoetry/virtualenvs/auto-ml-validation-p6bMHpIF-py3.9/lib/python3.9/site-packages/IPython/core/interactiveshell.py\", line 3441, in run_code\n",
      "    exec(code_obj, self.user_global_ns, self.user_ns)\n",
      "  File \"/var/folders/yg/y3zn0b9d0_b62k1lsc72d0m80000gn/T/ipykernel_42561/701566926.py\", line 1, in <module>\n",
      "  File \"/var/folders/yg/y3zn0b9d0_b62k1lsc72d0m80000gn/T/ipykernel_42561/568081994.py\", line 49, in fairness_visualization\n",
      "NameError: name 'instantiate_clf' is not defined\n"
     ]
    },
    {
     "name": "stdout",
     "output_type": "stream",
     "text": [
      "The test results are abnormal\n"
     ]
    }
   ],
   "source": [
    "test_class.fairness_visualization()"
   ]
  },
  {
   "cell_type": "code",
   "execution_count": 107,
   "id": "98d4fc0d",
   "metadata": {},
   "outputs": [
    {
     "data": {
      "text/plain": [
       "numpy.float64"
      ]
     },
     "execution_count": 107,
     "metadata": {},
     "output_type": "execute_result"
    }
   ],
   "source": [
    "type(train_set['score'][0])"
   ]
  },
  {
   "cell_type": "code",
   "execution_count": 108,
   "id": "ca0c2b4f",
   "metadata": {},
   "outputs": [
    {
     "data": {
      "text/plain": [
       "0        0\n",
       "1        0\n",
       "2        0\n",
       "3        0\n",
       "4        0\n",
       "        ..\n",
       "58142    0\n",
       "58143    0\n",
       "58144    0\n",
       "58145    0\n",
       "58146    0\n",
       "Name: loan_status, Length: 58147, dtype: int64"
      ]
     },
     "execution_count": 108,
     "metadata": {},
     "output_type": "execute_result"
    }
   ],
   "source": [
    "train_set['loan_status']"
   ]
  },
  {
   "cell_type": "code",
   "execution_count": 109,
   "id": "4b96cf6e",
   "metadata": {},
   "outputs": [],
   "source": [
    "train_set.loc[(train_set['score'] >= 0.5), 'pred_label'] = 1\n",
    "train_set.loc[(train_set['score'] < 0.5), 'pred_label'] = 0\n",
    "test_set.loc[(test_set['score'] >= 0.5), 'pred_label'] = 1\n",
    "test_set.loc[(test_set['score'] < 0.5), 'pred_label'] = 0"
   ]
  },
  {
   "cell_type": "code",
   "execution_count": 110,
   "id": "4b5b1f99",
   "metadata": {},
   "outputs": [
    {
     "data": {
      "text/plain": [
       "array([0, 1])"
      ]
     },
     "execution_count": 110,
     "metadata": {},
     "output_type": "execute_result"
    }
   ],
   "source": [
    "train_set['loan_status'].unique()"
   ]
  },
  {
   "cell_type": "code",
   "execution_count": 111,
   "id": "2aa22f97",
   "metadata": {},
   "outputs": [
    {
     "data": {
      "text/plain": [
       "array([0., 1.])"
      ]
     },
     "execution_count": 111,
     "metadata": {},
     "output_type": "execute_result"
    }
   ],
   "source": [
    "train_set['pred_label'].unique()"
   ]
  },
  {
   "cell_type": "code",
   "execution_count": 112,
   "id": "8d48fbe9",
   "metadata": {},
   "outputs": [
    {
     "data": {
      "text/plain": [
       "array([0, 1])"
      ]
     },
     "execution_count": 112,
     "metadata": {},
     "output_type": "execute_result"
    }
   ],
   "source": [
    "train_set.rename(columns={'loan_status': 'label_value', 'loan_status': 'label_value'}, inplace=True)\n",
    "test_set.rename(columns={'loan_status': 'label_value', 'loan_status': 'label_value'}, inplace=True)\n",
    "train_set['label_value'].unique()"
   ]
  },
  {
   "cell_type": "code",
   "execution_count": 121,
   "id": "cf60e288",
   "metadata": {},
   "outputs": [
    {
     "data": {
      "text/plain": [
       "0    14461\n",
       "1       76\n",
       "Name: label_value, dtype: int64"
      ]
     },
     "execution_count": 121,
     "metadata": {},
     "output_type": "execute_result"
    }
   ],
   "source": [
    "test_set['label_value'].value_counts()"
   ]
  },
  {
   "cell_type": "code",
   "execution_count": 122,
   "id": "dd076a8c",
   "metadata": {},
   "outputs": [
    {
     "data": {
      "text/plain": [
       "0.0    14483\n",
       "1.0       54\n",
       "Name: pred_label, dtype: int64"
      ]
     },
     "execution_count": 122,
     "metadata": {},
     "output_type": "execute_result"
    }
   ],
   "source": [
    "test_set['pred_label'].value_counts()"
   ]
  },
  {
   "cell_type": "markdown",
   "id": "13f24754",
   "metadata": {},
   "source": [
    "#### Prepare data for creating class"
   ]
  },
  {
   "cell_type": "code",
   "execution_count": 30,
   "id": "d7f7af05",
   "metadata": {},
   "outputs": [],
   "source": [
    "X_train = train_set[['loan_amnt', 'int_rate', 'installment', 'home_ownership', 'annual_inc',\n",
    "       'verification_status','dti', 'delinq_2yrs',\n",
    "       'inq_last_6mths', 'open_acc', 'pub_rec', 'revol_bal', 'total_acc',\n",
    "       'initial_list_status', 'out_prncp', 'out_prncp_inv', 'total_pymnt',\n",
    "       'total_pymnt_inv', 'total_rec_prncp', 'total_rec_int',\n",
    "       'total_rec_late_fee', 'last_pymnt_amnt', 'collections_12_mths_ex_med',\n",
    "       'application_type', 'tot_coll_amt', 'tot_cur_bal', 'open_acc_6m',\n",
    "       'open_act_il', 'open_il_12m', 'open_il_24m', 'mths_since_rcnt_il',\n",
    "       'total_bal_il', 'il_util', 'open_rv_12m', 'open_rv_24m', 'max_bal_bc',\n",
    "       'all_util', 'total_rev_hi_lim', 'inq_fi', 'total_cu_tl', 'inq_last_12m',\n",
    "       'acc_open_past_24mths', 'avg_cur_bal', 'bc_open_to_buy', 'bc_util',\n",
    "       'delinq_amnt', 'mo_sin_old_il_acct', 'mo_sin_old_rev_tl_op',\n",
    "       'mo_sin_rcnt_rev_tl_op', 'mo_sin_rcnt_tl', 'mort_acc',\n",
    "       'mths_since_recent_bc', 'mths_since_recent_inq',\n",
    "       'num_accts_ever_120_pd', 'num_actv_bc_tl', 'num_actv_rev_tl',\n",
    "       'num_bc_sats', 'num_bc_tl', 'num_il_tl', 'num_op_rev_tl',\n",
    "       'num_rev_accts', 'num_rev_tl_bal_gt_0', 'num_sats',\n",
    "       'num_tl_90g_dpd_24m', 'num_tl_op_past_12m', 'pct_tl_nvr_dlq',\n",
    "       'percent_bc_gt_75', 'pub_rec_bankruptcies', 'tax_liens',\n",
    "       'tot_hi_cred_lim', 'total_bal_ex_mort', 'total_bc_limit',\n",
    "       'total_il_high_credit_limit', 'hardship_flag', 'debt_settlement_flag']]\n",
    "X_test = test_set[['loan_amnt', 'int_rate', 'installment', 'home_ownership', 'annual_inc',\n",
    "       'verification_status','dti', 'delinq_2yrs',\n",
    "       'inq_last_6mths', 'open_acc', 'pub_rec', 'revol_bal', 'total_acc',\n",
    "       'initial_list_status', 'out_prncp', 'out_prncp_inv', 'total_pymnt',\n",
    "       'total_pymnt_inv', 'total_rec_prncp', 'total_rec_int',\n",
    "       'total_rec_late_fee', 'last_pymnt_amnt', 'collections_12_mths_ex_med',\n",
    "       'application_type', 'tot_coll_amt', 'tot_cur_bal', 'open_acc_6m',\n",
    "       'open_act_il', 'open_il_12m', 'open_il_24m', 'mths_since_rcnt_il',\n",
    "       'total_bal_il', 'il_util', 'open_rv_12m', 'open_rv_24m', 'max_bal_bc',\n",
    "       'all_util', 'total_rev_hi_lim', 'inq_fi', 'total_cu_tl', 'inq_last_12m',\n",
    "       'acc_open_past_24mths', 'avg_cur_bal', 'bc_open_to_buy', 'bc_util',\n",
    "       'delinq_amnt', 'mo_sin_old_il_acct', 'mo_sin_old_rev_tl_op',\n",
    "       'mo_sin_rcnt_rev_tl_op', 'mo_sin_rcnt_tl', 'mort_acc',\n",
    "       'mths_since_recent_bc', 'mths_since_recent_inq',\n",
    "       'num_accts_ever_120_pd', 'num_actv_bc_tl', 'num_actv_rev_tl',\n",
    "       'num_bc_sats', 'num_bc_tl', 'num_il_tl', 'num_op_rev_tl',\n",
    "       'num_rev_accts', 'num_rev_tl_bal_gt_0', 'num_sats',\n",
    "       'num_tl_90g_dpd_24m', 'num_tl_op_past_12m', 'pct_tl_nvr_dlq',\n",
    "       'percent_bc_gt_75', 'pub_rec_bankruptcies', 'tax_liens',\n",
    "       'tot_hi_cred_lim', 'total_bal_ex_mort', 'total_bc_limit',\n",
    "       'total_il_high_credit_limit', 'hardship_flag', 'debt_settlement_flag']]"
   ]
  },
  {
   "cell_type": "code",
   "execution_count": 124,
   "id": "16379d9a",
   "metadata": {},
   "outputs": [],
   "source": [
    "y_train = train_set['label_value']\n",
    "y_test = test_set['label_value']\n",
    "y_prob = test_set['score']\n",
    "y_pred = test_set['pred_label']"
   ]
  },
  {
   "cell_type": "code",
   "execution_count": null,
   "id": "c56bdbb8",
   "metadata": {},
   "outputs": [],
   "source": [
    "xgb_test_proba.csv"
   ]
  },
  {
   "cell_type": "code",
   "execution_count": 131,
   "id": "531c12c1",
   "metadata": {},
   "outputs": [],
   "source": [
    "my_class = FairnessMetricsEvaluator(train_set, test_set, \n",
    "                                    ['home_ownership', 'verification_status','initial_list_status'],\n",
    "                                    Pipeline(steps=[('scaling', StandardScaler()), ('model', LogisticRegression(C=0.1, max_iter=4000, random_state=0))]))"
   ]
  },
  {
   "cell_type": "code",
   "execution_count": 126,
   "id": "21f8daed",
   "metadata": {},
   "outputs": [],
   "source": [
    "train_df, test_df = my_class.data_preprocess('score','label_value')"
   ]
  },
  {
   "cell_type": "code",
   "execution_count": 127,
   "id": "c3a28d72",
   "metadata": {},
   "outputs": [
    {
     "data": {
      "text/html": [
       "<div>\n",
       "<style scoped>\n",
       "    .dataframe tbody tr th:only-of-type {\n",
       "        vertical-align: middle;\n",
       "    }\n",
       "\n",
       "    .dataframe tbody tr th {\n",
       "        vertical-align: top;\n",
       "    }\n",
       "\n",
       "    .dataframe thead th {\n",
       "        text-align: right;\n",
       "    }\n",
       "</style>\n",
       "<table border=\"1\" class=\"dataframe\">\n",
       "  <thead>\n",
       "    <tr style=\"text-align: right;\">\n",
       "      <th></th>\n",
       "      <th>loan_amnt</th>\n",
       "      <th>int_rate</th>\n",
       "      <th>installment</th>\n",
       "      <th>home_ownership</th>\n",
       "      <th>annual_inc</th>\n",
       "      <th>verification_status</th>\n",
       "      <th>label_value</th>\n",
       "      <th>dti</th>\n",
       "      <th>delinq_2yrs</th>\n",
       "      <th>inq_last_6mths</th>\n",
       "      <th>...</th>\n",
       "      <th>pub_rec_bankruptcies</th>\n",
       "      <th>tax_liens</th>\n",
       "      <th>tot_hi_cred_lim</th>\n",
       "      <th>total_bal_ex_mort</th>\n",
       "      <th>total_bc_limit</th>\n",
       "      <th>total_il_high_credit_limit</th>\n",
       "      <th>hardship_flag</th>\n",
       "      <th>debt_settlement_flag</th>\n",
       "      <th>score</th>\n",
       "      <th>pred_label</th>\n",
       "    </tr>\n",
       "  </thead>\n",
       "  <tbody>\n",
       "    <tr>\n",
       "      <th>0</th>\n",
       "      <td>9000.00-15000.00</td>\n",
       "      <td>0.09-0.12</td>\n",
       "      <td>265.73-404.88</td>\n",
       "      <td>RENT</td>\n",
       "      <td>51000.00-73000.00</td>\n",
       "      <td>Verified</td>\n",
       "      <td>0</td>\n",
       "      <td>13.85-19.70</td>\n",
       "      <td>0.00-18.00</td>\n",
       "      <td>0.00-1.00</td>\n",
       "      <td>...</td>\n",
       "      <td>0.00-4.00</td>\n",
       "      <td>0</td>\n",
       "      <td>3600.00-66923.50</td>\n",
       "      <td>36.00-26593.00</td>\n",
       "      <td>100.00-11700.00</td>\n",
       "      <td>22656.50-41817.00</td>\n",
       "      <td>N</td>\n",
       "      <td>N</td>\n",
       "      <td>0.208799</td>\n",
       "      <td>0.00-1.00</td>\n",
       "    </tr>\n",
       "    <tr>\n",
       "      <th>1</th>\n",
       "      <td>24000.00-40000.00</td>\n",
       "      <td>0.12-0.16</td>\n",
       "      <td>648.45-1676.23</td>\n",
       "      <td>MORTGAGE</td>\n",
       "      <td>73000.00-105000.00</td>\n",
       "      <td>Source Verified</td>\n",
       "      <td>0</td>\n",
       "      <td>26.64-999.00</td>\n",
       "      <td>0.00-18.00</td>\n",
       "      <td>0.00-1.00</td>\n",
       "      <td>...</td>\n",
       "      <td>0.00-4.00</td>\n",
       "      <td>0</td>\n",
       "      <td>147588.00-304134.00</td>\n",
       "      <td>45454.00-76693.50</td>\n",
       "      <td>39400.00-509400.00</td>\n",
       "      <td>72327.00-1230190.00</td>\n",
       "      <td>N</td>\n",
       "      <td>N</td>\n",
       "      <td>0.183391</td>\n",
       "      <td>0.00-1.00</td>\n",
       "    </tr>\n",
       "    <tr>\n",
       "      <th>2</th>\n",
       "      <td>1000.00-9000.00</td>\n",
       "      <td>0.09-0.12</td>\n",
       "      <td>30.64-265.73</td>\n",
       "      <td>OWN</td>\n",
       "      <td>40.00-51000.00</td>\n",
       "      <td>Not Verified</td>\n",
       "      <td>0</td>\n",
       "      <td>19.70-26.64</td>\n",
       "      <td>0.00-18.00</td>\n",
       "      <td>0.00-1.00</td>\n",
       "      <td>...</td>\n",
       "      <td>0.00-4.00</td>\n",
       "      <td>0</td>\n",
       "      <td>3600.00-66923.50</td>\n",
       "      <td>36.00-26593.00</td>\n",
       "      <td>11700.00-22100.00</td>\n",
       "      <td>22656.50-41817.00</td>\n",
       "      <td>N</td>\n",
       "      <td>N</td>\n",
       "      <td>0.168946</td>\n",
       "      <td>0.00-1.00</td>\n",
       "    </tr>\n",
       "    <tr>\n",
       "      <th>3</th>\n",
       "      <td>15000.00-24000.00</td>\n",
       "      <td>0.16-0.31</td>\n",
       "      <td>404.88-648.45</td>\n",
       "      <td>RENT</td>\n",
       "      <td>40.00-51000.00</td>\n",
       "      <td>Not Verified</td>\n",
       "      <td>0</td>\n",
       "      <td>19.70-26.64</td>\n",
       "      <td>0.00-18.00</td>\n",
       "      <td>0.00-1.00</td>\n",
       "      <td>...</td>\n",
       "      <td>0.00-4.00</td>\n",
       "      <td>0</td>\n",
       "      <td>66923.50-147588.00</td>\n",
       "      <td>36.00-26593.00</td>\n",
       "      <td>39400.00-509400.00</td>\n",
       "      <td>0.00-22656.50</td>\n",
       "      <td>N</td>\n",
       "      <td>N</td>\n",
       "      <td>0.075869</td>\n",
       "      <td>0.00-1.00</td>\n",
       "    </tr>\n",
       "    <tr>\n",
       "      <th>4</th>\n",
       "      <td>1000.00-9000.00</td>\n",
       "      <td>0.16-0.31</td>\n",
       "      <td>30.64-265.73</td>\n",
       "      <td>OWN</td>\n",
       "      <td>40.00-51000.00</td>\n",
       "      <td>Verified</td>\n",
       "      <td>0</td>\n",
       "      <td>26.64-999.00</td>\n",
       "      <td>0.00-18.00</td>\n",
       "      <td>0.00-1.00</td>\n",
       "      <td>...</td>\n",
       "      <td>0.00-4.00</td>\n",
       "      <td>0</td>\n",
       "      <td>66923.50-147588.00</td>\n",
       "      <td>76693.50-1012682.00</td>\n",
       "      <td>100.00-11700.00</td>\n",
       "      <td>72327.00-1230190.00</td>\n",
       "      <td>N</td>\n",
       "      <td>N</td>\n",
       "      <td>0.190298</td>\n",
       "      <td>0.00-1.00</td>\n",
       "    </tr>\n",
       "  </tbody>\n",
       "</table>\n",
       "<p>5 rows × 78 columns</p>\n",
       "</div>"
      ],
      "text/plain": [
       "           loan_amnt   int_rate     installment home_ownership  \\\n",
       "0   9000.00-15000.00  0.09-0.12   265.73-404.88           RENT   \n",
       "1  24000.00-40000.00  0.12-0.16  648.45-1676.23       MORTGAGE   \n",
       "2    1000.00-9000.00  0.09-0.12    30.64-265.73            OWN   \n",
       "3  15000.00-24000.00  0.16-0.31   404.88-648.45           RENT   \n",
       "4    1000.00-9000.00  0.16-0.31    30.64-265.73            OWN   \n",
       "\n",
       "           annual_inc verification_status  label_value           dti  \\\n",
       "0   51000.00-73000.00            Verified            0   13.85-19.70   \n",
       "1  73000.00-105000.00     Source Verified            0  26.64-999.00   \n",
       "2      40.00-51000.00        Not Verified            0   19.70-26.64   \n",
       "3      40.00-51000.00        Not Verified            0   19.70-26.64   \n",
       "4      40.00-51000.00            Verified            0  26.64-999.00   \n",
       "\n",
       "  delinq_2yrs inq_last_6mths  ... pub_rec_bankruptcies tax_liens  \\\n",
       "0  0.00-18.00      0.00-1.00  ...            0.00-4.00         0   \n",
       "1  0.00-18.00      0.00-1.00  ...            0.00-4.00         0   \n",
       "2  0.00-18.00      0.00-1.00  ...            0.00-4.00         0   \n",
       "3  0.00-18.00      0.00-1.00  ...            0.00-4.00         0   \n",
       "4  0.00-18.00      0.00-1.00  ...            0.00-4.00         0   \n",
       "\n",
       "       tot_hi_cred_lim    total_bal_ex_mort      total_bc_limit  \\\n",
       "0     3600.00-66923.50       36.00-26593.00     100.00-11700.00   \n",
       "1  147588.00-304134.00    45454.00-76693.50  39400.00-509400.00   \n",
       "2     3600.00-66923.50       36.00-26593.00   11700.00-22100.00   \n",
       "3   66923.50-147588.00       36.00-26593.00  39400.00-509400.00   \n",
       "4   66923.50-147588.00  76693.50-1012682.00     100.00-11700.00   \n",
       "\n",
       "  total_il_high_credit_limit hardship_flag debt_settlement_flag     score  \\\n",
       "0          22656.50-41817.00             N                    N  0.208799   \n",
       "1        72327.00-1230190.00             N                    N  0.183391   \n",
       "2          22656.50-41817.00             N                    N  0.168946   \n",
       "3              0.00-22656.50             N                    N  0.075869   \n",
       "4        72327.00-1230190.00             N                    N  0.190298   \n",
       "\n",
       "  pred_label  \n",
       "0  0.00-1.00  \n",
       "1  0.00-1.00  \n",
       "2  0.00-1.00  \n",
       "3  0.00-1.00  \n",
       "4  0.00-1.00  \n",
       "\n",
       "[5 rows x 78 columns]"
      ]
     },
     "execution_count": 127,
     "metadata": {},
     "output_type": "execute_result"
    }
   ],
   "source": [
    "train_df.head()"
   ]
  },
  {
   "cell_type": "code",
   "execution_count": 128,
   "id": "4bb8f9f6",
   "metadata": {
    "scrolled": false
   },
   "outputs": [
    {
     "name": "stdout",
     "output_type": "stream",
     "text": [
      "    model_id score_threshold  k       attribute_name    attribute_value  tpr  \\\n",
      "0          0      binary 0/1  0            loan_amnt    1000.00-9000.00  0.0   \n",
      "1          0      binary 0/1  0            loan_amnt  15000.00-24000.00  0.0   \n",
      "2          0      binary 0/1  0            loan_amnt  24000.00-40000.00  0.0   \n",
      "3          0      binary 0/1  0            loan_amnt   9000.00-15000.00  0.0   \n",
      "4          0      binary 0/1  0  verification_status       Not Verified  0.0   \n",
      "5          0      binary 0/1  0  verification_status    Source Verified  0.0   \n",
      "6          0      binary 0/1  0  verification_status           Verified  0.0   \n",
      "7          0      binary 0/1  0             int_rate          0.06-0.09  0.0   \n",
      "8          0      binary 0/1  0             int_rate          0.09-0.12  0.0   \n",
      "9          0      binary 0/1  0             int_rate          0.12-0.16  0.0   \n",
      "10         0      binary 0/1  0             int_rate          0.16-0.31  0.0   \n",
      "\n",
      "    tnr       for  fdr  fpr  ...  pprev  fp  fn    tn  tp  group_label_pos  \\\n",
      "0   1.0  0.005401  NaN  0.0  ...    0.0   0  20  3683   0               20   \n",
      "1   1.0  0.004878  NaN  0.0  ...    0.0   0  15  3060   0               15   \n",
      "2   1.0  0.005618  NaN  0.0  ...    0.0   0  19  3363   0               19   \n",
      "3   1.0  0.005026  NaN  0.0  ...    0.0   0  22  4355   0               22   \n",
      "4   1.0  0.004752  NaN  0.0  ...    0.0   0  33  6911   0               33   \n",
      "5   1.0  0.005934  NaN  0.0  ...    0.0   0  32  5361   0               32   \n",
      "6   1.0  0.005000  NaN  0.0  ...    0.0   0  11  2189   0               11   \n",
      "7   1.0  0.002674  NaN  0.0  ...    0.0   0  12  4476   0               12   \n",
      "8   1.0  0.004183  NaN  0.0  ...    0.0   0  13  3095   0               13   \n",
      "9   1.0  0.005423  NaN  0.0  ...    0.0   0  18  3301   0               18   \n",
      "10  1.0  0.009111  NaN  0.0  ...    0.0   0  33  3589   0               33   \n",
      "\n",
      "    group_label_neg  group_size  total_entities      prev  \n",
      "0              3683        3703           14537  0.005401  \n",
      "1              3060        3075           14537  0.004878  \n",
      "2              3363        3382           14537  0.005618  \n",
      "3              4355        4377           14537  0.005026  \n",
      "4              6911        6944           14537  0.004752  \n",
      "5              5361        5393           14537  0.005934  \n",
      "6              2189        2200           14537  0.005000  \n",
      "7              4476        4488           14537  0.002674  \n",
      "8              3095        3108           14537  0.004183  \n",
      "9              3301        3319           14537  0.005423  \n",
      "10             3589        3622           14537  0.009111  \n",
      "\n",
      "[11 rows x 26 columns]\n"
     ]
    },
    {
     "data": {
      "text/plain": [
       "<AxesSubplot:title={'center':'TNR (Model 0)'}, xlabel='Absolute Metric Magnitude'>"
      ]
     },
     "execution_count": 128,
     "metadata": {},
     "output_type": "execute_result"
    },
    {
     "data": {
      "image/png": "[encoded data removed]",
      "text/plain": [
       "<Figure size 720x360 with 1 Axes>"
      ]
     },
     "metadata": {
      "needs_background": "light"
     },
     "output_type": "display_data"
    }
   ],
   "source": [
    "my_class.plot_group_metric(test_df[['loan_amnt','verification_status','int_rate','score','label_value']], \n",
    "                           'tnr')"
   ]
  },
  {
   "cell_type": "code",
   "execution_count": 129,
   "id": "9b9acd65",
   "metadata": {
    "scrolled": false
   },
   "outputs": [
    {
     "data": {
      "application/vnd.jupyter.widget-view+json": {
       "model_id": "941a883be0e447ffb8c689f9fcd426b6",
       "version_major": 2,
       "version_minor": 0
      },
      "text/plain": [
       "Evaluate performance:   0%|          "
      ]
     },
     "metadata": {},
     "output_type": "display_data"
    },
    {
     "name": "stdout",
     "output_type": "stream",
     "text": [
      "\n",
      "Evaluation of credit scoring performed normally\n"
     ]
    },
    {
     "data": {
      "application/vnd.jupyter.widget-view+json": {
       "model_id": "dfddbd3650354ef3a6c963ef11394732",
       "version_major": 2,
       "version_minor": 0
      },
      "text/plain": [
       "Evaluate performance:   0%|          "
      ]
     },
     "metadata": {},
     "output_type": "display_data"
    },
    {
     "name": "stdout",
     "output_type": "stream",
     "text": [
      "\n",
      "Class Distribution\n",
      "\tpos_label                                                           0.523%\n",
      "\tneg_label                                                          99.477%\n",
      "\n",
      "\n",
      "Performance Metrics\n",
      "\tSelection Rate                                             0.004 +/- 0.001\n",
      "\tAccuracy                                                   0.996 +/- 0.001\n",
      "\u001b[1m\tBalanced Accuracy                                          0.723 +/- 0.068\u001b[0m\n",
      "\tRecall                                                     0.447 +/- 0.136\n",
      "\tPrecision                                                  0.630 +/- 0.134\n",
      "\tF1 Score                                                   0.523 +/- 0.125\n",
      "\tTrue Negative Rate                                         0.999 +/- 0.001\n",
      "\tFalse Negative Rate                                        0.553 +/- 0.136\n",
      "\tNegative Predictive Value                                  0.997 +/- 0.001\n",
      "\tROC AUC Score                                              0.823 +/- 0.061\n",
      "\tLog-loss                                                   0.226 +/- 0.002\n",
      "\n",
      "\n",
      "Probability Calibration\n",
      "\tBrier Loss Score                                                     0.044\n",
      "\n",
      "\n",
      "-----------------------------------1: Home_Ownership----------------------------\n",
      "Value Distribution\n",
      "\tPrivileged Group                                                   35.544%\n",
      "\tUnprivileged Group                                                 64.456%\n",
      "\n",
      "\n",
      "Fairness Metrics\n",
      "\tDisparate Impact                                           0.764 +/- 0.446\n",
      "\tDemographic Parity                                        -0.001 +/- 0.002\n",
      "\u001b[1m\tEqual Opportunity                                          0.053 +/- 0.228\u001b[0m\n",
      "\tFalse Positive Rate Parity                                -0.001 +/- 0.001\n",
      "\tTrue Negative Rate Parity                                  0.001 +/- 0.001\n",
      "\tFalse Negative Rate Parity                                -0.053 +/- 0.228\n",
      "\tPositive Predictive Parity                                 0.260 +/- 0.251\n",
      "\tNegative Predictive Parity                                 0.000 +/- 0.002\n",
      "\tFalse Discovery Rate Parity                               -0.260 +/- 0.251\n",
      "\tFalse Omission Rate Parity                                -0.000 +/- 0.002\n",
      "\tEqualized Odds                                             0.026 +/- 0.114\n",
      "\tNegative Equalized Odds                                   -0.026 +/- 0.114\n",
      "\tCalibration by Group                                       0.130 +/- 0.125\n",
      "\tAUC Parity                                                 0.008 +/- 0.130\n",
      "\tLog-loss Parity                                           -0.005 +/- 0.004\n",
      "\tMutual Information Independence                            0.000 +/- 0.000\n",
      "\tMutual Information Separation                              0.920 +/- 0.016\n",
      "\tMutual Information Sufficiency                             0.000 +/- 0.000\n",
      "\n",
      "\n",
      "Fairness Conclusion\n",
      "\tOutcome (Equal Opportunity)                                           Fair*\n",
      "\tFairness Threshold                                                    0.43\n",
      "\n",
      "\n",
      "-----------------------------------2: Verification_Status-----------------------\n",
      "Value Distribution\n",
      "\tPrivileged Group                                                   47.768%\n",
      "\tUnprivileged Group                                                 52.232%\n",
      "\n",
      "\n",
      "Fairness Metrics\n",
      "\tDisparate Impact                                           0.875 +/- 0.545\n",
      "\tDemographic Parity                                        -0.000 +/- 0.002\n",
      "\u001b[1m\tEqual Opportunity                                          0.120 +/- 0.217\u001b[0m\n",
      "\tFalse Positive Rate Parity                                -0.001 +/- 0.001\n",
      "\tTrue Negative Rate Parity                                  0.001 +/- 0.001\n",
      "\tFalse Negative Rate Parity                                -0.120 +/- 0.217\n",
      "\tPositive Predictive Parity                                 0.142 +/- 0.272\n",
      "\tNegative Predictive Parity                                 0.001 +/- 0.002\n",
      "\tFalse Discovery Rate Parity                               -0.142 +/- 0.272\n",
      "\tFalse Omission Rate Parity                                -0.001 +/- 0.002\n",
      "\tEqualized Odds                                             0.060 +/- 0.109\n",
      "\tNegative Equalized Odds                                   -0.060 +/- 0.109\n",
      "\tCalibration by Group                                       0.070 +/- 0.136\n",
      "\tAUC Parity                                                 0.004 +/- 0.126\n",
      "\tLog-loss Parity                                           -0.021 +/- 0.004\n",
      "\tMutual Information Independence                            0.000 +/- 0.000\n",
      "\tMutual Information Separation                              0.924 +/- 0.015\n",
      "\tMutual Information Sufficiency                             0.000 +/- 0.000\n",
      "\n",
      "\n",
      "Fairness Conclusion\n",
      "\tOutcome (Equal Opportunity)                                           Fair*\n",
      "\tFairness Threshold                                                    0.43\n",
      "\n",
      "\n",
      "-----------------------------------3: Initial_List_Status-----------------------\n",
      "Value Distribution\n",
      "\tPrivileged Group                                                   87.659%\n",
      "\tUnprivileged Group                                                 12.341%\n",
      "\n",
      "\n",
      "Fairness Metrics\n",
      "\tDisparate Impact                                             1.760 +/- nan\n",
      "\tDemographic Parity                                         0.002 +/- 0.002\n",
      "\u001b[1m\tEqual Opportunity                                          0.234 +/- 0.259\u001b[0m\n",
      "\tFalse Positive Rate Parity                                 0.001 +/- 0.001\n",
      "\tTrue Negative Rate Parity                                 -0.001 +/- 0.001\n",
      "\tFalse Negative Rate Parity                                -0.234 +/- 0.259\n",
      "\tPositive Predictive Parity                                  -0.130 +/- nan\n",
      "\tNegative Predictive Parity                                 0.002 +/- 0.004\n",
      "\tFalse Discovery Rate Parity                                  0.130 +/- nan\n",
      "\tFalse Omission Rate Parity                                -0.002 +/- 0.004\n",
      "\tEqualized Odds                                             0.118 +/- 0.129\n",
      "\tNegative Equalized Odds                                   -0.118 +/- 0.129\n",
      "\tCalibration by Group                                        -0.066 +/- nan\n",
      "\tAUC Parity                                                -0.004 +/- 0.180\n",
      "\tLog-loss Parity                                           -0.008 +/- 0.007\n",
      "\tMutual Information Independence                            0.000 +/- 0.001\n",
      "\tMutual Information Separation                              0.865 +/- 0.025\n",
      "\tMutual Information Sufficiency                             0.000 +/- 0.001\n",
      "\n",
      "\n",
      "Fairness Conclusion\n",
      "\tOutcome (Equal Opportunity)                                           Fair*\n",
      "\tFairness Threshold                                                    0.43\n",
      "\n",
      "\n",
      "* The outcome is calculated based on your inputs and is provided for informational purposes only. Should you decide to act upon the information herein, you do so at your own risk and Veritas Toolkit will not be liable or responsible in any way. \n"
     ]
    },
    {
     "data": {
      "text/html": [
       "\n",
       "                            <style>\n",
       "                                .dropdown_clr {\n",
       "                                    background-color: #E2F0D9;\n",
       "                                }\n",
       "                                .fair_green{\n",
       "                                    width:auto;\n",
       "                                    background-color:#E2F0D9;\n",
       "                                }\n",
       "                                .perf_blue {\n",
       "                                    width:auto;\n",
       "                                    background-color:#DEEBF7;\n",
       "                                }\n",
       "                            </style>\n",
       "                            "
      ],
      "text/plain": [
       "<IPython.core.display.HTML object>"
      ]
     },
     "metadata": {},
     "output_type": "display_data"
    },
    {
     "data": {
      "application/vnd.jupyter.widget-view+json": {
       "model_id": "bf6be24cb64c49b583bc65f0a623c90e",
       "version_major": 2,
       "version_minor": 0
      },
      "text/plain": [
       "VBox(children=(VBox(children=(VBox(children=(HBox(children=(HTML(value='<div style=\"color:black; text-align:le…"
      ]
     },
     "metadata": {},
     "output_type": "display_data"
    },
    {
     "name": "stdout",
     "output_type": "stream",
     "text": [
      "*The threshold and the values of ratio-based metrics are shifted down by 1.\n"
     ]
    }
   ],
   "source": [
    "my_class.fairness_visualization(X_train, X_test, y_test, y_pred, y_train, y_prob, \n",
    "                       {'home_ownership': ['RENT'], 'verification_status':['Not Verified'], 'initial_list_status':['w']})\n"
   ]
  },
  {
   "cell_type": "code",
   "execution_count": null,
   "id": "52ce43b1",
   "metadata": {},
   "outputs": [],
   "source": []
  }
 ],
 "metadata": {
  "kernelspec": {
   "display_name": "Python 3 (ipykernel)",
   "language": "python",
   "name": "python3"
  },
  "language_info": {
   "codemirror_mode": {
    "name": "ipython",
    "version": 3
   },
   "file_extension": ".py",
   "mimetype": "text/x-python",
   "name": "python",
   "nbconvert_exporter": "python",
   "pygments_lexer": "ipython3",
   "version": "3.9.5"
  }
 },
 "nbformat": 4,
 "nbformat_minor": 5
}
