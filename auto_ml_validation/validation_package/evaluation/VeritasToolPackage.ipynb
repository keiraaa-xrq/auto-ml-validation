{
 "cells": [
  {
   "cell_type": "code",
   "execution_count": 1,
   "id": "ddc8daf9",
   "metadata": {},
   "outputs": [
    {
     "name": "stdout",
     "output_type": "stream",
     "text": [
      "Requirement already satisfied: veritastool in /Users/user/opt/anaconda3/lib/python3.9/site-packages (1.0.2)\n",
      "Requirement already satisfied: pandas==1.3.2 in /Users/user/opt/anaconda3/lib/python3.9/site-packages (from veritastool) (1.3.2)\n",
      "Requirement already satisfied: tqdm==4.62.2 in /Users/user/opt/anaconda3/lib/python3.9/site-packages (from veritastool) (4.62.2)\n",
      "Requirement already satisfied: scikit-learn==0.24.2 in /Users/user/opt/anaconda3/lib/python3.9/site-packages (from veritastool) (0.24.2)\n",
      "Requirement already satisfied: scipy==1.7.1 in /Users/user/opt/anaconda3/lib/python3.9/site-packages (from veritastool) (1.7.1)\n",
      "Requirement already satisfied: matplotlib==3.4.3 in /Users/user/opt/anaconda3/lib/python3.9/site-packages (from veritastool) (3.4.3)\n",
      "Requirement already satisfied: ipywidgets==7.6.4 in /Users/user/opt/anaconda3/lib/python3.9/site-packages (from veritastool) (7.6.4)\n",
      "Requirement already satisfied: numpy==1.21.2 in /Users/user/opt/anaconda3/lib/python3.9/site-packages (from veritastool) (1.21.2)\n",
      "Requirement already satisfied: IPython==7.27.0 in /Users/user/opt/anaconda3/lib/python3.9/site-packages (from veritastool) (7.27.0)\n",
      "Requirement already satisfied: pytest==6.2.5 in /Users/user/opt/anaconda3/lib/python3.9/site-packages (from veritastool) (6.2.5)\n",
      "Requirement already satisfied: traitlets>=4.2 in /Users/user/opt/anaconda3/lib/python3.9/site-packages (from IPython==7.27.0->veritastool) (5.1.0)\n",
      "Requirement already satisfied: appnope in /Users/user/opt/anaconda3/lib/python3.9/site-packages (from IPython==7.27.0->veritastool) (0.1.2)\n",
      "Requirement already satisfied: setuptools>=18.5 in /Users/user/opt/anaconda3/lib/python3.9/site-packages (from IPython==7.27.0->veritastool) (67.6.1)\n",
      "Requirement already satisfied: pygments in /Users/user/opt/anaconda3/lib/python3.9/site-packages (from IPython==7.27.0->veritastool) (2.10.0)\n",
      "Requirement already satisfied: backcall in /Users/user/opt/anaconda3/lib/python3.9/site-packages (from IPython==7.27.0->veritastool) (0.2.0)\n",
      "Requirement already satisfied: prompt-toolkit!=3.0.0,!=3.0.1,<3.1.0,>=2.0.0 in /Users/user/opt/anaconda3/lib/python3.9/site-packages (from IPython==7.27.0->veritastool) (3.0.20)\n",
      "Requirement already satisfied: matplotlib-inline in /Users/user/opt/anaconda3/lib/python3.9/site-packages (from IPython==7.27.0->veritastool) (0.1.2)\n",
      "Requirement already satisfied: pexpect>4.3 in /Users/user/opt/anaconda3/lib/python3.9/site-packages (from IPython==7.27.0->veritastool) (4.8.0)\n",
      "Requirement already satisfied: decorator in /Users/user/opt/anaconda3/lib/python3.9/site-packages (from IPython==7.27.0->veritastool) (5.1.0)\n",
      "Requirement already satisfied: jedi>=0.16 in /Users/user/opt/anaconda3/lib/python3.9/site-packages (from IPython==7.27.0->veritastool) (0.18.0)\n",
      "Requirement already satisfied: pickleshare in /Users/user/opt/anaconda3/lib/python3.9/site-packages (from IPython==7.27.0->veritastool) (0.7.5)\n",
      "Requirement already satisfied: nbformat>=4.2.0 in /Users/user/opt/anaconda3/lib/python3.9/site-packages (from ipywidgets==7.6.4->veritastool) (5.1.3)\n",
      "Requirement already satisfied: jupyterlab-widgets>=1.0.0 in /Users/user/opt/anaconda3/lib/python3.9/site-packages (from ipywidgets==7.6.4->veritastool) (1.0.0)\n",
      "Requirement already satisfied: ipython-genutils~=0.2.0 in /Users/user/opt/anaconda3/lib/python3.9/site-packages (from ipywidgets==7.6.4->veritastool) (0.2.0)\n",
      "Requirement already satisfied: ipykernel>=4.5.1 in /Users/user/opt/anaconda3/lib/python3.9/site-packages (from ipywidgets==7.6.4->veritastool) (6.4.1)\n",
      "Requirement already satisfied: widgetsnbextension~=3.5.0 in /Users/user/opt/anaconda3/lib/python3.9/site-packages (from ipywidgets==7.6.4->veritastool) (3.5.1)\n",
      "Requirement already satisfied: python-dateutil>=2.7 in /Users/user/opt/anaconda3/lib/python3.9/site-packages (from matplotlib==3.4.3->veritastool) (2.8.2)\n",
      "Requirement already satisfied: cycler>=0.10 in /Users/user/opt/anaconda3/lib/python3.9/site-packages (from matplotlib==3.4.3->veritastool) (0.10.0)\n",
      "Requirement already satisfied: pillow>=6.2.0 in /Users/user/opt/anaconda3/lib/python3.9/site-packages (from matplotlib==3.4.3->veritastool) (9.4.0)\n",
      "Requirement already satisfied: kiwisolver>=1.0.1 in /Users/user/opt/anaconda3/lib/python3.9/site-packages (from matplotlib==3.4.3->veritastool) (1.3.1)\n",
      "Requirement already satisfied: pyparsing>=2.2.1 in /Users/user/opt/anaconda3/lib/python3.9/site-packages (from matplotlib==3.4.3->veritastool) (3.0.4)\n",
      "Requirement already satisfied: pytz>=2017.3 in /Users/user/opt/anaconda3/lib/python3.9/site-packages (from pandas==1.3.2->veritastool) (2022.7.1)\n",
      "Requirement already satisfied: attrs>=19.2.0 in /Users/user/opt/anaconda3/lib/python3.9/site-packages (from pytest==6.2.5->veritastool) (21.2.0)\n",
      "Requirement already satisfied: pluggy<2.0,>=0.12 in /Users/user/opt/anaconda3/lib/python3.9/site-packages (from pytest==6.2.5->veritastool) (0.13.1)\n",
      "Requirement already satisfied: toml in /Users/user/opt/anaconda3/lib/python3.9/site-packages (from pytest==6.2.5->veritastool) (0.10.2)\n",
      "Requirement already satisfied: iniconfig in /Users/user/opt/anaconda3/lib/python3.9/site-packages (from pytest==6.2.5->veritastool) (1.1.1)\n",
      "Requirement already satisfied: packaging in /Users/user/opt/anaconda3/lib/python3.9/site-packages (from pytest==6.2.5->veritastool) (21.0)\n",
      "Requirement already satisfied: py>=1.8.2 in /Users/user/opt/anaconda3/lib/python3.9/site-packages (from pytest==6.2.5->veritastool) (1.10.0)\n",
      "Requirement already satisfied: threadpoolctl>=2.0.0 in /Users/user/opt/anaconda3/lib/python3.9/site-packages (from scikit-learn==0.24.2->veritastool) (2.2.0)\n",
      "Requirement already satisfied: joblib>=0.11 in /Users/user/opt/anaconda3/lib/python3.9/site-packages (from scikit-learn==0.24.2->veritastool) (1.2.0)\n",
      "Requirement already satisfied: six in /Users/user/opt/anaconda3/lib/python3.9/site-packages (from cycler>=0.10->matplotlib==3.4.3->veritastool) (1.16.0)\n",
      "Requirement already satisfied: tornado<7.0,>=4.2 in /Users/user/opt/anaconda3/lib/python3.9/site-packages (from ipykernel>=4.5.1->ipywidgets==7.6.4->veritastool) (6.1)\n",
      "Requirement already satisfied: jupyter-client<8.0 in /Users/user/opt/anaconda3/lib/python3.9/site-packages (from ipykernel>=4.5.1->ipywidgets==7.6.4->veritastool) (6.1.12)\n",
      "Requirement already satisfied: debugpy<2.0,>=1.0.0 in /Users/user/opt/anaconda3/lib/python3.9/site-packages (from ipykernel>=4.5.1->ipywidgets==7.6.4->veritastool) (1.4.1)\n",
      "Requirement already satisfied: parso<0.9.0,>=0.8.0 in /Users/user/opt/anaconda3/lib/python3.9/site-packages (from jedi>=0.16->IPython==7.27.0->veritastool) (0.8.2)\n",
      "Requirement already satisfied: pyzmq>=13 in /Users/user/opt/anaconda3/lib/python3.9/site-packages (from jupyter-client<8.0->ipykernel>=4.5.1->ipywidgets==7.6.4->veritastool) (22.2.1)\n",
      "Requirement already satisfied: jupyter-core>=4.6.0 in /Users/user/opt/anaconda3/lib/python3.9/site-packages (from jupyter-client<8.0->ipykernel>=4.5.1->ipywidgets==7.6.4->veritastool) (4.8.1)\n",
      "Requirement already satisfied: jsonschema!=2.5.0,>=2.4 in /Users/user/opt/anaconda3/lib/python3.9/site-packages (from nbformat>=4.2.0->ipywidgets==7.6.4->veritastool) (4.17.3)\n",
      "Requirement already satisfied: pyrsistent!=0.17.0,!=0.17.1,!=0.17.2,>=0.14.0 in /Users/user/opt/anaconda3/lib/python3.9/site-packages (from jsonschema!=2.5.0,>=2.4->nbformat>=4.2.0->ipywidgets==7.6.4->veritastool) (0.18.0)\n",
      "Requirement already satisfied: ptyprocess>=0.5 in /Users/user/opt/anaconda3/lib/python3.9/site-packages (from pexpect>4.3->IPython==7.27.0->veritastool) (0.7.0)\n",
      "Requirement already satisfied: wcwidth in /Users/user/opt/anaconda3/lib/python3.9/site-packages (from prompt-toolkit!=3.0.0,!=3.0.1,<3.1.0,>=2.0.0->IPython==7.27.0->veritastool) (0.2.5)\n",
      "Requirement already satisfied: notebook>=4.4.1 in /Users/user/opt/anaconda3/lib/python3.9/site-packages (from widgetsnbextension~=3.5.0->ipywidgets==7.6.4->veritastool) (6.4.5)\n",
      "Requirement already satisfied: prometheus-client in /Users/user/opt/anaconda3/lib/python3.9/site-packages (from notebook>=4.4.1->widgetsnbextension~=3.5.0->ipywidgets==7.6.4->veritastool) (0.11.0)\n",
      "Requirement already satisfied: terminado>=0.8.3 in /Users/user/opt/anaconda3/lib/python3.9/site-packages (from notebook>=4.4.1->widgetsnbextension~=3.5.0->ipywidgets==7.6.4->veritastool) (0.9.4)\n"
     ]
    },
    {
     "name": "stdout",
     "output_type": "stream",
     "text": [
      "Requirement already satisfied: Send2Trash>=1.5.0 in /Users/user/opt/anaconda3/lib/python3.9/site-packages (from notebook>=4.4.1->widgetsnbextension~=3.5.0->ipywidgets==7.6.4->veritastool) (1.8.0)\n",
      "Requirement already satisfied: argon2-cffi in /Users/user/opt/anaconda3/lib/python3.9/site-packages (from notebook>=4.4.1->widgetsnbextension~=3.5.0->ipywidgets==7.6.4->veritastool) (20.1.0)\n",
      "Requirement already satisfied: nbconvert in /Users/user/opt/anaconda3/lib/python3.9/site-packages (from notebook>=4.4.1->widgetsnbextension~=3.5.0->ipywidgets==7.6.4->veritastool) (6.1.0)\n",
      "Requirement already satisfied: jinja2 in /Users/user/opt/anaconda3/lib/python3.9/site-packages (from notebook>=4.4.1->widgetsnbextension~=3.5.0->ipywidgets==7.6.4->veritastool) (3.0.1)\n",
      "Requirement already satisfied: cffi>=1.0.0 in /Users/user/opt/anaconda3/lib/python3.9/site-packages (from argon2-cffi->notebook>=4.4.1->widgetsnbextension~=3.5.0->ipywidgets==7.6.4->veritastool) (1.14.6)\n",
      "Requirement already satisfied: pycparser in /Users/user/opt/anaconda3/lib/python3.9/site-packages (from cffi>=1.0.0->argon2-cffi->notebook>=4.4.1->widgetsnbextension~=3.5.0->ipywidgets==7.6.4->veritastool) (2.20)\n",
      "Requirement already satisfied: MarkupSafe>=2.0 in /Users/user/opt/anaconda3/lib/python3.9/site-packages (from jinja2->notebook>=4.4.1->widgetsnbextension~=3.5.0->ipywidgets==7.6.4->veritastool) (2.1.2)\n",
      "Requirement already satisfied: testpath in /Users/user/opt/anaconda3/lib/python3.9/site-packages (from nbconvert->notebook>=4.4.1->widgetsnbextension~=3.5.0->ipywidgets==7.6.4->veritastool) (0.5.0)\n",
      "Requirement already satisfied: defusedxml in /Users/user/opt/anaconda3/lib/python3.9/site-packages (from nbconvert->notebook>=4.4.1->widgetsnbextension~=3.5.0->ipywidgets==7.6.4->veritastool) (0.7.1)\n",
      "Requirement already satisfied: nbclient<0.6.0,>=0.5.0 in /Users/user/opt/anaconda3/lib/python3.9/site-packages (from nbconvert->notebook>=4.4.1->widgetsnbextension~=3.5.0->ipywidgets==7.6.4->veritastool) (0.5.3)\n",
      "Requirement already satisfied: entrypoints>=0.2.2 in /Users/user/opt/anaconda3/lib/python3.9/site-packages (from nbconvert->notebook>=4.4.1->widgetsnbextension~=3.5.0->ipywidgets==7.6.4->veritastool) (0.3)\n",
      "Requirement already satisfied: pandocfilters>=1.4.1 in /Users/user/opt/anaconda3/lib/python3.9/site-packages (from nbconvert->notebook>=4.4.1->widgetsnbextension~=3.5.0->ipywidgets==7.6.4->veritastool) (1.4.3)\n",
      "Requirement already satisfied: jupyterlab-pygments in /Users/user/opt/anaconda3/lib/python3.9/site-packages (from nbconvert->notebook>=4.4.1->widgetsnbextension~=3.5.0->ipywidgets==7.6.4->veritastool) (0.1.2)\n",
      "Requirement already satisfied: bleach in /Users/user/opt/anaconda3/lib/python3.9/site-packages (from nbconvert->notebook>=4.4.1->widgetsnbextension~=3.5.0->ipywidgets==7.6.4->veritastool) (4.0.0)\n",
      "Requirement already satisfied: mistune<2,>=0.8.1 in /Users/user/opt/anaconda3/lib/python3.9/site-packages (from nbconvert->notebook>=4.4.1->widgetsnbextension~=3.5.0->ipywidgets==7.6.4->veritastool) (0.8.4)\n",
      "Requirement already satisfied: nest-asyncio in /Users/user/opt/anaconda3/lib/python3.9/site-packages (from nbclient<0.6.0,>=0.5.0->nbconvert->notebook>=4.4.1->widgetsnbextension~=3.5.0->ipywidgets==7.6.4->veritastool) (1.5.1)\n",
      "Requirement already satisfied: async-generator in /Users/user/opt/anaconda3/lib/python3.9/site-packages (from nbclient<0.6.0,>=0.5.0->nbconvert->notebook>=4.4.1->widgetsnbextension~=3.5.0->ipywidgets==7.6.4->veritastool) (1.10)\n",
      "Requirement already satisfied: webencodings in /Users/user/opt/anaconda3/lib/python3.9/site-packages (from bleach->nbconvert->notebook>=4.4.1->widgetsnbextension~=3.5.0->ipywidgets==7.6.4->veritastool) (0.5.1)\n"
     ]
    }
   ],
   "source": [
    "!pip install veritastool"
   ]
  },
  {
   "cell_type": "code",
   "execution_count": 2,
   "id": "f26f172f",
   "metadata": {},
   "outputs": [
    {
     "ename": "NameError",
     "evalue": "name 'veritastool' is not defined",
     "output_type": "error",
     "traceback": [
      "\u001b[0;31m---------------------------------------------------------------------------\u001b[0m",
      "\u001b[0;31mNameError\u001b[0m                                 Traceback (most recent call last)",
      "\u001b[0;32m/var/folders/yg/y3zn0b9d0_b62k1lsc72d0m80000gn/T/ipykernel_74793/2723329637.py\u001b[0m in \u001b[0;36m<module>\u001b[0;34m\u001b[0m\n\u001b[0;32m----> 1\u001b[0;31m \u001b[0mveritastool\u001b[0m \u001b[0;34m-\u001b[0m\u001b[0;34m-\u001b[0m\u001b[0mversion\u001b[0m\u001b[0;34m\u001b[0m\u001b[0;34m\u001b[0m\u001b[0m\n\u001b[0m",
      "\u001b[0;31mNameError\u001b[0m: name 'veritastool' is not defined"
     ]
    }
   ],
   "source": [
    "veritastool --version"
   ]
  },
  {
   "cell_type": "code",
   "execution_count": null,
   "id": "ff4e3ea2",
   "metadata": {},
   "outputs": [],
   "source": []
  }
 ],
 "metadata": {
  "kernelspec": {
   "display_name": "Python 3 (ipykernel)",
   "language": "python",
   "name": "python3"
  },
  "language_info": {
   "codemirror_mode": {
    "name": "ipython",
    "version": 3
   },
   "file_extension": ".py",
   "mimetype": "text/x-python",
   "name": "python",
   "nbconvert_exporter": "python",
   "pygments_lexer": "ipython3",
   "version": "3.9.7"
  }
 },
 "nbformat": 4,
 "nbformat_minor": 5
}
