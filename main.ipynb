{
 "cells": [
  {
   "attachments": {},
   "cell_type": "markdown",
   "metadata": {},
   "source": [
    "## Load packages"
   ]
  },
  {
   "cell_type": "code",
   "execution_count": 1,
   "metadata": {},
   "outputs": [],
   "source": [
    "import pandas as pd\n",
    "from auto_ml_validation.validation_package.process_data import process_data\n",
    "from auto_ml_validation.validation_package.benchmark_pipeline import auto_benchmark, save_benchmark_output\n",
    "from auto_ml_validation.validation_package.train_pipeline import train"
   ]
  },
  {
   "attachments": {},
   "cell_type": "markdown",
   "metadata": {},
   "source": [
    "## Benchmarking pipeline"
   ]
  },
  {
   "attachments": {},
   "cell_type": "markdown",
   "metadata": {},
   "source": [
    "### Load datasets & specify target + categorical columns"
   ]
  },
  {
   "cell_type": "code",
   "execution_count": null,
   "metadata": {},
   "outputs": [],
   "source": [
    "train_raw = pd.read_csv('./data/stage_2/loanstats_train.csv')\n",
    "val_raw = pd.read_csv('./data/stage_2/loanstats_val.csv')\n",
    "test_raw = pd.read_csv('./data/stage_2/loanstats_test.csv')\n",
    "target = 'loan_status'\n",
    "cat_cols = [\"home_ownership\", \"verification_status\",\n",
    "            \"hardship_flag\", \"debt_settlement_flag\",\n",
    "            \"initial_list_status\", \"application_type\"]"
   ]
  },
  {
   "cell_type": "markdown",
   "metadata": {},
   "source": []
  }
 ],
 "metadata": {
  "kernelspec": {
   "display_name": "Python 3",
   "language": "python",
   "name": "python3"
  },
  "language_info": {
   "codemirror_mode": {
    "name": "ipython",
    "version": 3
   },
   "file_extension": ".py",
   "mimetype": "text/x-python",
   "name": "python",
   "nbconvert_exporter": "python",
   "pygments_lexer": "ipython3",
   "version": "3.9.13"
  },
  "orig_nbformat": 4
 },
 "nbformat": 4,
 "nbformat_minor": 2
}
