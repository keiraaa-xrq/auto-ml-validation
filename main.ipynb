{
 "cells": [
  {
   "attachments": {},
   "cell_type": "markdown",
   "metadata": {},
   "source": [
    "## Load packages"
   ]
  },
  {
   "cell_type": "code",
   "execution_count": 39,
   "metadata": {},
   "outputs": [
    {
     "ename": "ImportError",
     "evalue": "cannot import name 'evaluate_performance' from 'auto_ml_validation.validation_package.evaluation.performance_metrics_evaluator' (/Users/keira/Desktop/auto-ml-validation/auto_ml_validation/validation_package/evaluation/performance_metrics_evaluator.py)",
     "output_type": "error",
     "traceback": [
      "\u001b[0;31m---------------------------------------------------------------------------\u001b[0m",
      "\u001b[0;31mImportError\u001b[0m                               Traceback (most recent call last)",
      "Cell \u001b[0;32mIn[39], line 11\u001b[0m\n\u001b[1;32m      9\u001b[0m \u001b[39mfrom\u001b[39;00m \u001b[39mauto_ml_validation\u001b[39;00m\u001b[39m.\u001b[39;00m\u001b[39mvalidation_package\u001b[39;00m\u001b[39m.\u001b[39;00m\u001b[39mtrain_pipeline\u001b[39;00m \u001b[39mimport\u001b[39;00m train\n\u001b[1;32m     10\u001b[0m \u001b[39mfrom\u001b[39;00m \u001b[39mauto_ml_validation\u001b[39;00m\u001b[39m.\u001b[39;00m\u001b[39mvalidation_package\u001b[39;00m\u001b[39m.\u001b[39;00m\u001b[39mevaluation\u001b[39;00m\u001b[39m.\u001b[39;00m\u001b[39mstatistical_metrics_evaluator\u001b[39;00m \u001b[39mimport\u001b[39;00m StatisticalMetricsEvaluator\n\u001b[0;32m---> 11\u001b[0m \u001b[39mfrom\u001b[39;00m \u001b[39mauto_ml_validation\u001b[39;00m\u001b[39m.\u001b[39;00m\u001b[39mvalidation_package\u001b[39;00m\u001b[39m.\u001b[39;00m\u001b[39mevaluation\u001b[39;00m\u001b[39m.\u001b[39;00m\u001b[39mperformance_metrics_evaluator\u001b[39;00m \u001b[39mimport\u001b[39;00m evaluate_performance\n",
      "\u001b[0;31mImportError\u001b[0m: cannot import name 'evaluate_performance' from 'auto_ml_validation.validation_package.evaluation.performance_metrics_evaluator' (/Users/keira/Desktop/auto-ml-validation/auto_ml_validation/validation_package/evaluation/performance_metrics_evaluator.py)"
     ]
    }
   ],
   "source": [
    "# built-in libraries\n",
    "from datetime import date\n",
    "import os\n",
    "# third-party libraries\n",
    "import pandas as pd\n",
    "# local application\n",
    "from auto_ml_validation.validation_package.process_data import split_x_y, process_data\n",
    "from auto_ml_validation.validation_package.benchmark_pipeline import auto_benchmark, save_benchmark_output\n",
    "from auto_ml_validation.validation_package.train_pipeline import train\n",
    "from auto_ml_validation.validation_package.evaluation.statistical_metrics_evaluator import StatisticalMetricsEvaluator\n",
    "from auto_ml_validation.validation_package.evaluation.performance_metrics_evaluator import evaluate_performance"
   ]
  },
  {
   "attachments": {},
   "cell_type": "markdown",
   "metadata": {},
   "source": [
    "## Benchmarking pipeline"
   ]
  },
  {
   "attachments": {},
   "cell_type": "markdown",
   "metadata": {},
   "source": [
    "### Benchmarking setup"
   ]
  },
  {
   "attachments": {},
   "cell_type": "markdown",
   "metadata": {},
   "source": [
    "Load raw datasets & specify target + categorical columns"
   ]
  },
  {
   "cell_type": "code",
   "execution_count": 2,
   "metadata": {},
   "outputs": [],
   "source": [
    "train_raw = pd.read_csv('./data/stage_2/loanstats_train.csv')\n",
    "val_raw = pd.read_csv('./data/stage_2/loanstats_val.csv')\n",
    "test_raw = pd.read_csv('./data/stage_2/loanstats_test.csv')\n",
    "target = 'loan_status'\n",
    "cat_cols = [\"home_ownership\", \"verification_status\",\n",
    "            \"hardship_flag\", \"debt_settlement_flag\",\n",
    "            \"initial_list_status\", \"application_type\"]"
   ]
  },
  {
   "cell_type": "code",
   "execution_count": 3,
   "metadata": {},
   "outputs": [
    {
     "name": "stdout",
     "output_type": "stream",
     "text": [
      "Training size: (58147, 76), Validation size: (7268, 76), Testing size: (7269, 76)\n"
     ]
    }
   ],
   "source": [
    "print(f'Training size: {train_raw.shape}, Validation size: {val_raw.shape}, Testing size: {test_raw.shape}')"
   ]
  },
  {
   "attachments": {},
   "cell_type": "markdown",
   "metadata": {},
   "source": [
    "Downsampling training data (Note: optional; doing so here only because our raw training data is too large)"
   ]
  },
  {
   "cell_type": "code",
   "execution_count": 4,
   "metadata": {},
   "outputs": [
    {
     "name": "stdout",
     "output_type": "stream",
     "text": [
      "(57843, 76) (304, 76)\n",
      "(15000, 76)\n",
      "(15304, 76)\n"
     ]
    }
   ],
   "source": [
    "neg_df = train_raw[train_raw['loan_status'] == 0]\n",
    "pos_df = train_raw[train_raw['loan_status'] == 1]\n",
    "print(neg_df.shape, pos_df.shape)\n",
    "neg_samp = neg_df.sample(n=15000, random_state=42, ignore_index=True)\n",
    "print(neg_samp.shape)\n",
    "train_sm = pd.concat([neg_samp, pos_df], axis=0, ignore_index=True)\n",
    "# shuffle\n",
    "train_sm = train_sm.sample(frac=1, random_state=1)\n",
    "print(train_sm.shape)"
   ]
  },
  {
   "cell_type": "code",
   "execution_count": 5,
   "metadata": {},
   "outputs": [
    {
     "data": {
      "text/html": [
       "<div>\n",
       "<style scoped>\n",
       "    .dataframe tbody tr th:only-of-type {\n",
       "        vertical-align: middle;\n",
       "    }\n",
       "\n",
       "    .dataframe tbody tr th {\n",
       "        vertical-align: top;\n",
       "    }\n",
       "\n",
       "    .dataframe thead th {\n",
       "        text-align: right;\n",
       "    }\n",
       "</style>\n",
       "<table border=\"1\" class=\"dataframe\">\n",
       "  <thead>\n",
       "    <tr style=\"text-align: right;\">\n",
       "      <th></th>\n",
       "      <th>loan_amnt</th>\n",
       "      <th>int_rate</th>\n",
       "      <th>installment</th>\n",
       "      <th>home_ownership</th>\n",
       "      <th>annual_inc</th>\n",
       "      <th>verification_status</th>\n",
       "      <th>loan_status</th>\n",
       "      <th>dti</th>\n",
       "      <th>delinq_2yrs</th>\n",
       "      <th>inq_last_6mths</th>\n",
       "      <th>...</th>\n",
       "      <th>pct_tl_nvr_dlq</th>\n",
       "      <th>percent_bc_gt_75</th>\n",
       "      <th>pub_rec_bankruptcies</th>\n",
       "      <th>tax_liens</th>\n",
       "      <th>tot_hi_cred_lim</th>\n",
       "      <th>total_bal_ex_mort</th>\n",
       "      <th>total_bc_limit</th>\n",
       "      <th>total_il_high_credit_limit</th>\n",
       "      <th>hardship_flag</th>\n",
       "      <th>debt_settlement_flag</th>\n",
       "    </tr>\n",
       "  </thead>\n",
       "  <tbody>\n",
       "    <tr>\n",
       "      <th>9965</th>\n",
       "      <td>6000</td>\n",
       "      <td>0.1171</td>\n",
       "      <td>198.46</td>\n",
       "      <td>RENT</td>\n",
       "      <td>55000.0</td>\n",
       "      <td>Not Verified</td>\n",
       "      <td>0</td>\n",
       "      <td>19.09</td>\n",
       "      <td>0</td>\n",
       "      <td>0</td>\n",
       "      <td>...</td>\n",
       "      <td>93.8</td>\n",
       "      <td>0.0</td>\n",
       "      <td>0</td>\n",
       "      <td>0</td>\n",
       "      <td>54184</td>\n",
       "      <td>34885</td>\n",
       "      <td>23400</td>\n",
       "      <td>29984</td>\n",
       "      <td>N</td>\n",
       "      <td>N</td>\n",
       "    </tr>\n",
       "    <tr>\n",
       "      <th>1873</th>\n",
       "      <td>20000</td>\n",
       "      <td>0.0702</td>\n",
       "      <td>617.73</td>\n",
       "      <td>RENT</td>\n",
       "      <td>81000.0</td>\n",
       "      <td>Not Verified</td>\n",
       "      <td>0</td>\n",
       "      <td>16.22</td>\n",
       "      <td>0</td>\n",
       "      <td>0</td>\n",
       "      <td>...</td>\n",
       "      <td>100.0</td>\n",
       "      <td>16.7</td>\n",
       "      <td>0</td>\n",
       "      <td>0</td>\n",
       "      <td>74334</td>\n",
       "      <td>41232</td>\n",
       "      <td>34600</td>\n",
       "      <td>36734</td>\n",
       "      <td>N</td>\n",
       "      <td>N</td>\n",
       "    </tr>\n",
       "    <tr>\n",
       "      <th>3737</th>\n",
       "      <td>28000</td>\n",
       "      <td>0.0881</td>\n",
       "      <td>887.92</td>\n",
       "      <td>MORTGAGE</td>\n",
       "      <td>46950.0</td>\n",
       "      <td>Source Verified</td>\n",
       "      <td>0</td>\n",
       "      <td>58.03</td>\n",
       "      <td>0</td>\n",
       "      <td>0</td>\n",
       "      <td>...</td>\n",
       "      <td>92.0</td>\n",
       "      <td>50.0</td>\n",
       "      <td>1</td>\n",
       "      <td>0</td>\n",
       "      <td>338397</td>\n",
       "      <td>38976</td>\n",
       "      <td>19100</td>\n",
       "      <td>71760</td>\n",
       "      <td>N</td>\n",
       "      <td>N</td>\n",
       "    </tr>\n",
       "    <tr>\n",
       "      <th>11359</th>\n",
       "      <td>2500</td>\n",
       "      <td>0.0819</td>\n",
       "      <td>78.57</td>\n",
       "      <td>MORTGAGE</td>\n",
       "      <td>85000.0</td>\n",
       "      <td>Not Verified</td>\n",
       "      <td>0</td>\n",
       "      <td>21.84</td>\n",
       "      <td>0</td>\n",
       "      <td>1</td>\n",
       "      <td>...</td>\n",
       "      <td>88.2</td>\n",
       "      <td>0.0</td>\n",
       "      <td>0</td>\n",
       "      <td>0</td>\n",
       "      <td>369846</td>\n",
       "      <td>46946</td>\n",
       "      <td>15000</td>\n",
       "      <td>71946</td>\n",
       "      <td>N</td>\n",
       "      <td>N</td>\n",
       "    </tr>\n",
       "    <tr>\n",
       "      <th>4330</th>\n",
       "      <td>8000</td>\n",
       "      <td>0.1131</td>\n",
       "      <td>263.09</td>\n",
       "      <td>MORTGAGE</td>\n",
       "      <td>110000.0</td>\n",
       "      <td>Source Verified</td>\n",
       "      <td>0</td>\n",
       "      <td>11.82</td>\n",
       "      <td>0</td>\n",
       "      <td>1</td>\n",
       "      <td>...</td>\n",
       "      <td>75.0</td>\n",
       "      <td>25.0</td>\n",
       "      <td>0</td>\n",
       "      <td>0</td>\n",
       "      <td>385109</td>\n",
       "      <td>71647</td>\n",
       "      <td>14700</td>\n",
       "      <td>70709</td>\n",
       "      <td>N</td>\n",
       "      <td>N</td>\n",
       "    </tr>\n",
       "  </tbody>\n",
       "</table>\n",
       "<p>5 rows × 76 columns</p>\n",
       "</div>"
      ],
      "text/plain": [
       "       loan_amnt  int_rate  installment home_ownership  annual_inc  \\\n",
       "9965        6000    0.1171       198.46           RENT     55000.0   \n",
       "1873       20000    0.0702       617.73           RENT     81000.0   \n",
       "3737       28000    0.0881       887.92       MORTGAGE     46950.0   \n",
       "11359       2500    0.0819        78.57       MORTGAGE     85000.0   \n",
       "4330        8000    0.1131       263.09       MORTGAGE    110000.0   \n",
       "\n",
       "      verification_status  loan_status    dti  delinq_2yrs  inq_last_6mths  \\\n",
       "9965         Not Verified            0  19.09            0               0   \n",
       "1873         Not Verified            0  16.22            0               0   \n",
       "3737      Source Verified            0  58.03            0               0   \n",
       "11359        Not Verified            0  21.84            0               1   \n",
       "4330      Source Verified            0  11.82            0               1   \n",
       "\n",
       "       ...  pct_tl_nvr_dlq  percent_bc_gt_75  pub_rec_bankruptcies  tax_liens  \\\n",
       "9965   ...            93.8               0.0                     0          0   \n",
       "1873   ...           100.0              16.7                     0          0   \n",
       "3737   ...            92.0              50.0                     1          0   \n",
       "11359  ...            88.2               0.0                     0          0   \n",
       "4330   ...            75.0              25.0                     0          0   \n",
       "\n",
       "      tot_hi_cred_lim  total_bal_ex_mort  total_bc_limit  \\\n",
       "9965            54184              34885           23400   \n",
       "1873            74334              41232           34600   \n",
       "3737           338397              38976           19100   \n",
       "11359          369846              46946           15000   \n",
       "4330           385109              71647           14700   \n",
       "\n",
       "       total_il_high_credit_limit  hardship_flag  debt_settlement_flag  \n",
       "9965                        29984              N                     N  \n",
       "1873                        36734              N                     N  \n",
       "3737                        71760              N                     N  \n",
       "11359                       71946              N                     N  \n",
       "4330                        70709              N                     N  \n",
       "\n",
       "[5 rows x 76 columns]"
      ]
     },
     "execution_count": 5,
     "metadata": {},
     "output_type": "execute_result"
    }
   ],
   "source": [
    "train_sm.head()"
   ]
  },
  {
   "cell_type": "code",
   "execution_count": 6,
   "metadata": {},
   "outputs": [
    {
     "name": "stdout",
     "output_type": "stream",
     "text": [
      "Training size: (15304, 76), Validation size: (7268, 76), Testing size: (7269, 76)\n"
     ]
    }
   ],
   "source": [
    "print(f'Training size: {train_sm.shape}, Validation size: {val_raw.shape}, Testing size: {test_raw.shape}')"
   ]
  },
  {
   "attachments": {},
   "cell_type": "markdown",
   "metadata": {},
   "source": [
    "Specify metric for comparing benchmark models: Choose among accuracy, f1, precision, recall, and roc_auc"
   ]
  },
  {
   "cell_type": "code",
   "execution_count": 7,
   "metadata": {},
   "outputs": [],
   "source": [
    "benchmark_metric = 'f1'"
   ]
  },
  {
   "attachments": {},
   "cell_type": "markdown",
   "metadata": {},
   "source": [
    "### Data processing"
   ]
  },
  {
   "cell_type": "code",
   "execution_count": 8,
   "metadata": {},
   "outputs": [],
   "source": [
    "other_dfs = [val_raw, test_raw]\n",
    "X_train, y_train, others = process_data(train_sm, other_dfs, target, cat_cols)\n",
    "X_val, y_val = others[0]\n",
    "X_test, y_test = others[1]"
   ]
  },
  {
   "cell_type": "code",
   "execution_count": 9,
   "metadata": {},
   "outputs": [
    {
     "data": {
      "text/html": [
       "<div>\n",
       "<style scoped>\n",
       "    .dataframe tbody tr th:only-of-type {\n",
       "        vertical-align: middle;\n",
       "    }\n",
       "\n",
       "    .dataframe tbody tr th {\n",
       "        vertical-align: top;\n",
       "    }\n",
       "\n",
       "    .dataframe thead th {\n",
       "        text-align: right;\n",
       "    }\n",
       "</style>\n",
       "<table border=\"1\" class=\"dataframe\">\n",
       "  <thead>\n",
       "    <tr style=\"text-align: right;\">\n",
       "      <th></th>\n",
       "      <th>home_ownership_ANY</th>\n",
       "      <th>home_ownership_MORTGAGE</th>\n",
       "      <th>home_ownership_OWN</th>\n",
       "      <th>home_ownership_RENT</th>\n",
       "      <th>verification_status_Not Verified</th>\n",
       "      <th>verification_status_Source Verified</th>\n",
       "      <th>verification_status_Verified</th>\n",
       "      <th>hardship_flag_N</th>\n",
       "      <th>debt_settlement_flag_N</th>\n",
       "      <th>initial_list_status_f</th>\n",
       "      <th>...</th>\n",
       "      <th>num_tl_90g_dpd_24m</th>\n",
       "      <th>num_tl_op_past_12m</th>\n",
       "      <th>pct_tl_nvr_dlq</th>\n",
       "      <th>percent_bc_gt_75</th>\n",
       "      <th>pub_rec_bankruptcies</th>\n",
       "      <th>tax_liens</th>\n",
       "      <th>tot_hi_cred_lim</th>\n",
       "      <th>total_bal_ex_mort</th>\n",
       "      <th>total_bc_limit</th>\n",
       "      <th>total_il_high_credit_limit</th>\n",
       "    </tr>\n",
       "  </thead>\n",
       "  <tbody>\n",
       "    <tr>\n",
       "      <th>0</th>\n",
       "      <td>0.0</td>\n",
       "      <td>0.0</td>\n",
       "      <td>0.0</td>\n",
       "      <td>1.0</td>\n",
       "      <td>1.0</td>\n",
       "      <td>0.0</td>\n",
       "      <td>0.0</td>\n",
       "      <td>1.0</td>\n",
       "      <td>1.0</td>\n",
       "      <td>0.0</td>\n",
       "      <td>...</td>\n",
       "      <td>-0.146349</td>\n",
       "      <td>-0.116543</td>\n",
       "      <td>-0.162912</td>\n",
       "      <td>-0.930299</td>\n",
       "      <td>-0.375333</td>\n",
       "      <td>0.0</td>\n",
       "      <td>-0.807781</td>\n",
       "      <td>-0.464104</td>\n",
       "      <td>-0.226617</td>\n",
       "      <td>-0.511226</td>\n",
       "    </tr>\n",
       "    <tr>\n",
       "      <th>1</th>\n",
       "      <td>0.0</td>\n",
       "      <td>0.0</td>\n",
       "      <td>0.0</td>\n",
       "      <td>1.0</td>\n",
       "      <td>1.0</td>\n",
       "      <td>0.0</td>\n",
       "      <td>0.0</td>\n",
       "      <td>1.0</td>\n",
       "      <td>1.0</td>\n",
       "      <td>0.0</td>\n",
       "      <td>...</td>\n",
       "      <td>-0.146349</td>\n",
       "      <td>0.413808</td>\n",
       "      <td>0.600788</td>\n",
       "      <td>-0.438634</td>\n",
       "      <td>-0.375333</td>\n",
       "      <td>0.0</td>\n",
       "      <td>-0.702159</td>\n",
       "      <td>-0.349318</td>\n",
       "      <td>0.191562</td>\n",
       "      <td>-0.372400</td>\n",
       "    </tr>\n",
       "    <tr>\n",
       "      <th>2</th>\n",
       "      <td>0.0</td>\n",
       "      <td>1.0</td>\n",
       "      <td>0.0</td>\n",
       "      <td>0.0</td>\n",
       "      <td>0.0</td>\n",
       "      <td>1.0</td>\n",
       "      <td>0.0</td>\n",
       "      <td>1.0</td>\n",
       "      <td>1.0</td>\n",
       "      <td>0.0</td>\n",
       "      <td>...</td>\n",
       "      <td>-0.146349</td>\n",
       "      <td>-0.646893</td>\n",
       "      <td>-0.384632</td>\n",
       "      <td>0.541752</td>\n",
       "      <td>2.605518</td>\n",
       "      <td>0.0</td>\n",
       "      <td>0.682001</td>\n",
       "      <td>-0.390118</td>\n",
       "      <td>-0.387168</td>\n",
       "      <td>0.347972</td>\n",
       "    </tr>\n",
       "    <tr>\n",
       "      <th>3</th>\n",
       "      <td>0.0</td>\n",
       "      <td>1.0</td>\n",
       "      <td>0.0</td>\n",
       "      <td>0.0</td>\n",
       "      <td>1.0</td>\n",
       "      <td>0.0</td>\n",
       "      <td>0.0</td>\n",
       "      <td>1.0</td>\n",
       "      <td>1.0</td>\n",
       "      <td>0.0</td>\n",
       "      <td>...</td>\n",
       "      <td>-0.146349</td>\n",
       "      <td>-0.646893</td>\n",
       "      <td>-0.852706</td>\n",
       "      <td>-0.930299</td>\n",
       "      <td>-0.375333</td>\n",
       "      <td>0.0</td>\n",
       "      <td>0.846850</td>\n",
       "      <td>-0.245980</td>\n",
       "      <td>-0.540251</td>\n",
       "      <td>0.351798</td>\n",
       "    </tr>\n",
       "    <tr>\n",
       "      <th>4</th>\n",
       "      <td>0.0</td>\n",
       "      <td>1.0</td>\n",
       "      <td>0.0</td>\n",
       "      <td>0.0</td>\n",
       "      <td>0.0</td>\n",
       "      <td>1.0</td>\n",
       "      <td>0.0</td>\n",
       "      <td>1.0</td>\n",
       "      <td>1.0</td>\n",
       "      <td>0.0</td>\n",
       "      <td>...</td>\n",
       "      <td>-0.146349</td>\n",
       "      <td>0.413808</td>\n",
       "      <td>-2.478649</td>\n",
       "      <td>-0.194274</td>\n",
       "      <td>-0.375333</td>\n",
       "      <td>0.0</td>\n",
       "      <td>0.926855</td>\n",
       "      <td>0.200740</td>\n",
       "      <td>-0.551453</td>\n",
       "      <td>0.326357</td>\n",
       "    </tr>\n",
       "  </tbody>\n",
       "</table>\n",
       "<p>5 rows × 82 columns</p>\n",
       "</div>"
      ],
      "text/plain": [
       "   home_ownership_ANY  home_ownership_MORTGAGE  home_ownership_OWN  \\\n",
       "0                 0.0                      0.0                 0.0   \n",
       "1                 0.0                      0.0                 0.0   \n",
       "2                 0.0                      1.0                 0.0   \n",
       "3                 0.0                      1.0                 0.0   \n",
       "4                 0.0                      1.0                 0.0   \n",
       "\n",
       "   home_ownership_RENT  verification_status_Not Verified  \\\n",
       "0                  1.0                               1.0   \n",
       "1                  1.0                               1.0   \n",
       "2                  0.0                               0.0   \n",
       "3                  0.0                               1.0   \n",
       "4                  0.0                               0.0   \n",
       "\n",
       "   verification_status_Source Verified  verification_status_Verified  \\\n",
       "0                                  0.0                           0.0   \n",
       "1                                  0.0                           0.0   \n",
       "2                                  1.0                           0.0   \n",
       "3                                  0.0                           0.0   \n",
       "4                                  1.0                           0.0   \n",
       "\n",
       "   hardship_flag_N  debt_settlement_flag_N  initial_list_status_f  ...  \\\n",
       "0              1.0                     1.0                    0.0  ...   \n",
       "1              1.0                     1.0                    0.0  ...   \n",
       "2              1.0                     1.0                    0.0  ...   \n",
       "3              1.0                     1.0                    0.0  ...   \n",
       "4              1.0                     1.0                    0.0  ...   \n",
       "\n",
       "   num_tl_90g_dpd_24m  num_tl_op_past_12m  pct_tl_nvr_dlq  percent_bc_gt_75  \\\n",
       "0           -0.146349           -0.116543       -0.162912         -0.930299   \n",
       "1           -0.146349            0.413808        0.600788         -0.438634   \n",
       "2           -0.146349           -0.646893       -0.384632          0.541752   \n",
       "3           -0.146349           -0.646893       -0.852706         -0.930299   \n",
       "4           -0.146349            0.413808       -2.478649         -0.194274   \n",
       "\n",
       "   pub_rec_bankruptcies  tax_liens  tot_hi_cred_lim  total_bal_ex_mort  \\\n",
       "0             -0.375333        0.0        -0.807781          -0.464104   \n",
       "1             -0.375333        0.0        -0.702159          -0.349318   \n",
       "2              2.605518        0.0         0.682001          -0.390118   \n",
       "3             -0.375333        0.0         0.846850          -0.245980   \n",
       "4             -0.375333        0.0         0.926855           0.200740   \n",
       "\n",
       "   total_bc_limit  total_il_high_credit_limit  \n",
       "0       -0.226617                   -0.511226  \n",
       "1        0.191562                   -0.372400  \n",
       "2       -0.387168                    0.347972  \n",
       "3       -0.540251                    0.351798  \n",
       "4       -0.551453                    0.326357  \n",
       "\n",
       "[5 rows x 82 columns]"
      ]
     },
     "execution_count": 9,
     "metadata": {},
     "output_type": "execute_result"
    }
   ],
   "source": [
    "X_train.head()"
   ]
  },
  {
   "cell_type": "code",
   "execution_count": 10,
   "metadata": {},
   "outputs": [
    {
     "data": {
      "text/plain": [
       "9965     0\n",
       "1873     0\n",
       "3737     0\n",
       "11359    0\n",
       "4330     0\n",
       "Name: loan_status, dtype: int64"
      ]
     },
     "execution_count": 10,
     "metadata": {},
     "output_type": "execute_result"
    }
   ],
   "source": [
    "y_train.head()"
   ]
  },
  {
   "cell_type": "code",
   "execution_count": 11,
   "metadata": {},
   "outputs": [
    {
     "name": "stdout",
     "output_type": "stream",
     "text": [
      "Training size: (15304, 82), Validation size: (7268, 82), Testing size: (7269, 82)\n"
     ]
    }
   ],
   "source": [
    "print(f'Training size: {X_train.shape}, Validation size: {X_val.shape}, Testing size: {X_test.shape}')"
   ]
  },
  {
   "attachments": {},
   "cell_type": "markdown",
   "metadata": {},
   "source": [
    "### Auto benchmarking"
   ]
  },
  {
   "attachments": {},
   "cell_type": "markdown",
   "metadata": {},
   "source": [
    "Demonstrate checking input validity "
   ]
  },
  {
   "cell_type": "code",
   "execution_count": 11,
   "metadata": {},
   "outputs": [
    {
     "ename": "ValueError",
     "evalue": "Invalid metric: acc. Please choose from {'accuracy', 'roc_auc', 'precision', 'recall', 'f1'}.",
     "output_type": "error",
     "traceback": [
      "\u001b[0;31m---------------------------------------------------------------------------\u001b[0m",
      "\u001b[0;31mValueError\u001b[0m                                Traceback (most recent call last)",
      "Cell \u001b[0;32mIn[11], line 1\u001b[0m\n\u001b[0;32m----> 1\u001b[0m best_clf_name, benchmark_output \u001b[39m=\u001b[39m auto_benchmark(X_train, y_train, X_val, y_val, \u001b[39m'\u001b[39;49m\u001b[39macc\u001b[39;49m\u001b[39m'\u001b[39;49m, feature_selection\u001b[39m=\u001b[39;49m\u001b[39mFalse\u001b[39;49;00m, n_jobs\u001b[39m=\u001b[39;49m\u001b[39m-\u001b[39;49m\u001b[39m1\u001b[39;49m, mode\u001b[39m=\u001b[39;49m\u001b[39m'\u001b[39;49m\u001b[39mparallel\u001b[39;49m\u001b[39m'\u001b[39;49m, verbose\u001b[39m=\u001b[39;49m\u001b[39mTrue\u001b[39;49;00m)\n",
      "File \u001b[0;32m~/Desktop/auto-ml-validation/auto_ml_validation/validation_package/benchmark_pipeline.py:148\u001b[0m, in \u001b[0;36mauto_benchmark\u001b[0;34m(X_train, y_train, X_val, y_val, metric, feature_selection, n_jobs, mode, verbose)\u001b[0m\n\u001b[1;32m    146\u001b[0m metrics \u001b[39m=\u001b[39m {\u001b[39m'\u001b[39m\u001b[39maccuracy\u001b[39m\u001b[39m'\u001b[39m, \u001b[39m'\u001b[39m\u001b[39mf1\u001b[39m\u001b[39m'\u001b[39m, \u001b[39m'\u001b[39m\u001b[39mprecision\u001b[39m\u001b[39m'\u001b[39m, \u001b[39m'\u001b[39m\u001b[39mrecall\u001b[39m\u001b[39m'\u001b[39m, \u001b[39m'\u001b[39m\u001b[39mroc_auc\u001b[39m\u001b[39m'\u001b[39m}\n\u001b[1;32m    147\u001b[0m \u001b[39mif\u001b[39;00m metric \u001b[39mnot\u001b[39;00m \u001b[39min\u001b[39;00m metrics:\n\u001b[0;32m--> 148\u001b[0m     \u001b[39mraise\u001b[39;00m \u001b[39mValueError\u001b[39;00m(\n\u001b[1;32m    149\u001b[0m         \u001b[39mf\u001b[39m\u001b[39m'\u001b[39m\u001b[39mInvalid metric: \u001b[39m\u001b[39m{\u001b[39;00mmetric\u001b[39m}\u001b[39;00m\u001b[39m. Please choose from \u001b[39m\u001b[39m{\u001b[39;00mmetrics\u001b[39m}\u001b[39;00m\u001b[39m.\u001b[39m\u001b[39m'\u001b[39m)\n\u001b[1;32m    150\u001b[0m modes \u001b[39m=\u001b[39m {\u001b[39m'\u001b[39m\u001b[39msequential\u001b[39m\u001b[39m'\u001b[39m, \u001b[39m'\u001b[39m\u001b[39mparallel\u001b[39m\u001b[39m'\u001b[39m}\n\u001b[1;32m    151\u001b[0m \u001b[39mif\u001b[39;00m mode \u001b[39mnot\u001b[39;00m \u001b[39min\u001b[39;00m modes:\n",
      "\u001b[0;31mValueError\u001b[0m: Invalid metric: acc. Please choose from {'accuracy', 'roc_auc', 'precision', 'recall', 'f1'}."
     ]
    }
   ],
   "source": [
    "best_clf_name, benchmark_output = auto_benchmark(X_train, y_train, X_val, y_val, 'acc', feature_selection=False, n_jobs=-1, mode='parallel', verbose=True)"
   ]
  },
  {
   "cell_type": "code",
   "execution_count": 12,
   "metadata": {},
   "outputs": [
    {
     "ename": "ValueError",
     "evalue": "Invalid mode: ??. Please choose from \"sequential\" or \"parallel\".",
     "output_type": "error",
     "traceback": [
      "\u001b[0;31m---------------------------------------------------------------------------\u001b[0m",
      "\u001b[0;31mValueError\u001b[0m                                Traceback (most recent call last)",
      "Cell \u001b[0;32mIn[12], line 1\u001b[0m\n\u001b[0;32m----> 1\u001b[0m best_clf_name, benchmark_output \u001b[39m=\u001b[39m auto_benchmark(X_train, y_train, X_val, y_val, benchmark_metric, feature_selection\u001b[39m=\u001b[39;49m\u001b[39mFalse\u001b[39;49;00m, n_jobs\u001b[39m=\u001b[39;49m\u001b[39m-\u001b[39;49m\u001b[39m1\u001b[39;49m, mode\u001b[39m=\u001b[39;49m\u001b[39m'\u001b[39;49m\u001b[39m??\u001b[39;49m\u001b[39m'\u001b[39;49m, verbose\u001b[39m=\u001b[39;49m\u001b[39mTrue\u001b[39;49;00m)\n",
      "File \u001b[0;32m~/Desktop/auto-ml-validation/auto_ml_validation/validation_package/benchmark_pipeline.py:152\u001b[0m, in \u001b[0;36mauto_benchmark\u001b[0;34m(X_train, y_train, X_val, y_val, metric, feature_selection, n_jobs, mode, verbose)\u001b[0m\n\u001b[1;32m    150\u001b[0m modes \u001b[39m=\u001b[39m {\u001b[39m'\u001b[39m\u001b[39msequential\u001b[39m\u001b[39m'\u001b[39m, \u001b[39m'\u001b[39m\u001b[39mparallel\u001b[39m\u001b[39m'\u001b[39m}\n\u001b[1;32m    151\u001b[0m \u001b[39mif\u001b[39;00m mode \u001b[39mnot\u001b[39;00m \u001b[39min\u001b[39;00m modes:\n\u001b[0;32m--> 152\u001b[0m     \u001b[39mraise\u001b[39;00m \u001b[39mValueError\u001b[39;00m(\n\u001b[1;32m    153\u001b[0m         \u001b[39mf\u001b[39m\u001b[39m'\u001b[39m\u001b[39mInvalid mode: \u001b[39m\u001b[39m{\u001b[39;00mmode\u001b[39m}\u001b[39;00m\u001b[39m. Please choose from \u001b[39m\u001b[39m\"\u001b[39m\u001b[39msequential\u001b[39m\u001b[39m\"\u001b[39m\u001b[39m or \u001b[39m\u001b[39m\"\u001b[39m\u001b[39mparallel\u001b[39m\u001b[39m\"\u001b[39m\u001b[39m.\u001b[39m\u001b[39m'\u001b[39m)\n\u001b[1;32m    155\u001b[0m n_sample \u001b[39m=\u001b[39m X_train\u001b[39m.\u001b[39mshape[\u001b[39m0\u001b[39m]\n\u001b[1;32m    156\u001b[0m \u001b[39m# instantiate clfs\u001b[39;00m\n",
      "\u001b[0;31mValueError\u001b[0m: Invalid mode: ??. Please choose from \"sequential\" or \"parallel\"."
     ]
    }
   ],
   "source": [
    "best_clf_name, benchmark_output = auto_benchmark(X_train, y_train, X_val, y_val, benchmark_metric, feature_selection=False, n_jobs=-1, mode='??', verbose=True)"
   ]
  },
  {
   "attachments": {},
   "cell_type": "markdown",
   "metadata": {},
   "source": [
    "Perform benchmarking (Note: feature selection is skipped here to save time)"
   ]
  },
  {
   "cell_type": "code",
   "execution_count": 15,
   "metadata": {},
   "outputs": [
    {
     "name": "stdout",
     "output_type": "stream",
     "text": [
      "Number of classifiers:  4\n",
      "Training Decision Tree Classifier.\n",
      "Fitting 5 folds for each of 8 candidates, totalling 40 fits\n",
      "Training Logistic Classifier.\n",
      "Training XGBoost Classifier.\n",
      "Training Random Forest Classifier.\n",
      "Fitting 5 folds for each of 8 candidates, totalling 40 fits\n",
      "Fitting 5 folds for each of 8 candidates, totalling 40 fits\n",
      "Fitting 5 folds for each of 8 candidates, totalling 40 fits\n",
      "Best hyperparameters: {'min_samples_split': 2, 'min_samples_leaf': 4, 'max_depth': 8, 'criterion': 'gini'}; best score: 0.5424639005141778.\n",
      "Best hyperparameters: {'C': 0.017073967431528118}; best score: 0.09724640847192566.\n",
      "Best hyperparameters: {'colsample_bytree': 0.7296244459829335, 'gamma': 0.16685430556951092, 'learning_rate': 0.008952946643416624, 'max_depth': 8, 'min_child_weight': 1.185260448662222, 'n_estimators': 100, 'subsample': 0.8609993861334124}; best score: 0.5652441511511976.\n",
      "Best hyperparameters: {'n_estimators': 300, 'min_samples_split': 4, 'min_samples_leaf': 3, 'max_depth': 16, 'criterion': 'gini'}; best score: 0.5568827813013859.\n",
      "Model: Decision Tree Classifier; threshold: 0.8; f1: 0.5846153846153846; time taken: 0.12 mins; number of features: 82.\n",
      "Model: Logistic Classifier; threshold: 0.9; f1: 0.18666666666666665; time taken: 0.33 mins; number of features: 82.\n",
      "Model: Random Forest Classifier; threshold: 0.2; f1: 0.6; time taken: 2.13 mins; number of features: 82.\n",
      "Model: XGBoost Classifier; threshold: 0.3; f1: 0.608695652173913; time taken: 1.84 mins; number of features: 82.\n",
      "Best model is XGBoost Classifier with f1 of 0.608695652173913 at a threshold of 0.3.\n"
     ]
    }
   ],
   "source": [
    "benchmark_model, benchmark_output = auto_benchmark(X_train, y_train, X_val, y_val, benchmark_metric, feature_selection=False, n_jobs=-1, mode='parallel', verbose=True)"
   ]
  },
  {
   "attachments": {},
   "cell_type": "markdown",
   "metadata": {},
   "source": [
    "Check benchmark model"
   ]
  },
  {
   "cell_type": "code",
   "execution_count": 16,
   "metadata": {},
   "outputs": [
    {
     "data": {
      "text/plain": [
       "<auto_ml_validation.validation_package.algorithms.xgboost.XGBoostClassifier at 0x172c9f9d0>"
      ]
     },
     "execution_count": 16,
     "metadata": {},
     "output_type": "execute_result"
    }
   ],
   "source": [
    "benchmark_model"
   ]
  },
  {
   "attachments": {},
   "cell_type": "markdown",
   "metadata": {},
   "source": [
    "Save benchmarking output"
   ]
  },
  {
   "cell_type": "code",
   "execution_count": 17,
   "metadata": {},
   "outputs": [
    {
     "name": "stdout",
     "output_type": "stream",
     "text": [
      "Successfully saved model to ./outputs/loanstats_2023-03-21/Decision Tree Classifier.pkl.\n",
      "Successfully saved model to ./outputs/loanstats_2023-03-21/Logistic Classifier.pkl.\n",
      "Successfully saved model to ./outputs/loanstats_2023-03-21/Random Forest Classifier.pkl.\n",
      "Successfully saved model to ./outputs/loanstats_2023-03-21/XGBoost Classifier.pkl.\n"
     ]
    },
    {
     "name": "stderr",
     "output_type": "stream",
     "text": [
      "/Users/keira/Desktop/auto-ml-validation/.venv/lib/python3.9/site-packages/xgboost/sklearn.py:761: UserWarning: n_estimators is not saved in Scikit-Learn meta.\n",
      "  warnings.warn(\n",
      "/Users/keira/Desktop/auto-ml-validation/.venv/lib/python3.9/site-packages/xgboost/sklearn.py:761: UserWarning: max_depth is not saved in Scikit-Learn meta.\n",
      "  warnings.warn(\n"
     ]
    }
   ],
   "source": [
    "models_dir = f'./outputs/loanstats_{date.today()}'\n",
    "result_path = f'./outputs/loanstats_{date.today()}/benchmark_output.json'\n",
    "os.mkdir(models_dir)\n",
    "save_benchmark_output(benchmark_output, models_dir, result_path)"
   ]
  },
  {
   "cell_type": "markdown",
   "metadata": {},
   "source": [
    "## Replicate the model to be validated"
   ]
  },
  {
   "attachments": {},
   "cell_type": "markdown",
   "metadata": {},
   "source": [
    "### Training setup"
   ]
  },
  {
   "attachments": {},
   "cell_type": "markdown",
   "metadata": {},
   "source": [
    "Load processed datasets & split features & target"
   ]
  },
  {
   "cell_type": "code",
   "execution_count": 18,
   "metadata": {},
   "outputs": [
    {
     "data": {
      "text/html": [
       "<div>\n",
       "<style scoped>\n",
       "    .dataframe tbody tr th:only-of-type {\n",
       "        vertical-align: middle;\n",
       "    }\n",
       "\n",
       "    .dataframe tbody tr th {\n",
       "        vertical-align: top;\n",
       "    }\n",
       "\n",
       "    .dataframe thead th {\n",
       "        text-align: right;\n",
       "    }\n",
       "</style>\n",
       "<table border=\"1\" class=\"dataframe\">\n",
       "  <thead>\n",
       "    <tr style=\"text-align: right;\">\n",
       "      <th></th>\n",
       "      <th>home_ownership_ANY</th>\n",
       "      <th>home_ownership_MORTGAGE</th>\n",
       "      <th>home_ownership_OWN</th>\n",
       "      <th>home_ownership_RENT</th>\n",
       "      <th>verification_status_Not Verified</th>\n",
       "      <th>verification_status_Source Verified</th>\n",
       "      <th>verification_status_Verified</th>\n",
       "      <th>hardship_flag_N</th>\n",
       "      <th>debt_settlement_flag_N</th>\n",
       "      <th>initial_list_status_f</th>\n",
       "      <th>...</th>\n",
       "      <th>num_tl_op_past_12m</th>\n",
       "      <th>pct_tl_nvr_dlq</th>\n",
       "      <th>percent_bc_gt_75</th>\n",
       "      <th>pub_rec_bankruptcies</th>\n",
       "      <th>tax_liens</th>\n",
       "      <th>tot_hi_cred_lim</th>\n",
       "      <th>total_bal_ex_mort</th>\n",
       "      <th>total_bc_limit</th>\n",
       "      <th>total_il_high_credit_limit</th>\n",
       "      <th>loan_status</th>\n",
       "    </tr>\n",
       "  </thead>\n",
       "  <tbody>\n",
       "    <tr>\n",
       "      <th>0</th>\n",
       "      <td>0.0</td>\n",
       "      <td>0.0</td>\n",
       "      <td>0.0</td>\n",
       "      <td>1.0</td>\n",
       "      <td>1.0</td>\n",
       "      <td>0.0</td>\n",
       "      <td>0.0</td>\n",
       "      <td>1.0</td>\n",
       "      <td>1.0</td>\n",
       "      <td>0.0</td>\n",
       "      <td>...</td>\n",
       "      <td>-0.119909</td>\n",
       "      <td>-0.143239</td>\n",
       "      <td>-0.925559</td>\n",
       "      <td>-0.373194</td>\n",
       "      <td>0.0</td>\n",
       "      <td>-0.806673</td>\n",
       "      <td>-0.465307</td>\n",
       "      <td>-0.239786</td>\n",
       "      <td>-0.503782</td>\n",
       "      <td>0</td>\n",
       "    </tr>\n",
       "    <tr>\n",
       "      <th>1</th>\n",
       "      <td>0.0</td>\n",
       "      <td>0.0</td>\n",
       "      <td>0.0</td>\n",
       "      <td>1.0</td>\n",
       "      <td>1.0</td>\n",
       "      <td>0.0</td>\n",
       "      <td>0.0</td>\n",
       "      <td>1.0</td>\n",
       "      <td>1.0</td>\n",
       "      <td>0.0</td>\n",
       "      <td>...</td>\n",
       "      <td>0.405869</td>\n",
       "      <td>0.594438</td>\n",
       "      <td>-0.433864</td>\n",
       "      <td>-0.373194</td>\n",
       "      <td>0.0</td>\n",
       "      <td>-0.702652</td>\n",
       "      <td>-0.354174</td>\n",
       "      <td>0.174055</td>\n",
       "      <td>-0.370419</td>\n",
       "      <td>0</td>\n",
       "    </tr>\n",
       "    <tr>\n",
       "      <th>2</th>\n",
       "      <td>0.0</td>\n",
       "      <td>1.0</td>\n",
       "      <td>0.0</td>\n",
       "      <td>0.0</td>\n",
       "      <td>0.0</td>\n",
       "      <td>1.0</td>\n",
       "      <td>0.0</td>\n",
       "      <td>1.0</td>\n",
       "      <td>1.0</td>\n",
       "      <td>0.0</td>\n",
       "      <td>...</td>\n",
       "      <td>-0.645686</td>\n",
       "      <td>-0.357403</td>\n",
       "      <td>0.546582</td>\n",
       "      <td>2.605953</td>\n",
       "      <td>0.0</td>\n",
       "      <td>0.660536</td>\n",
       "      <td>-0.393676</td>\n",
       "      <td>-0.398672</td>\n",
       "      <td>0.321606</td>\n",
       "      <td>0</td>\n",
       "    </tr>\n",
       "    <tr>\n",
       "      <th>3</th>\n",
       "      <td>0.0</td>\n",
       "      <td>1.0</td>\n",
       "      <td>0.0</td>\n",
       "      <td>0.0</td>\n",
       "      <td>1.0</td>\n",
       "      <td>0.0</td>\n",
       "      <td>0.0</td>\n",
       "      <td>1.0</td>\n",
       "      <td>1.0</td>\n",
       "      <td>0.0</td>\n",
       "      <td>...</td>\n",
       "      <td>-0.645686</td>\n",
       "      <td>-0.809528</td>\n",
       "      <td>-0.925559</td>\n",
       "      <td>-0.373194</td>\n",
       "      <td>0.0</td>\n",
       "      <td>0.822887</td>\n",
       "      <td>-0.254125</td>\n",
       "      <td>-0.550168</td>\n",
       "      <td>0.325281</td>\n",
       "      <td>0</td>\n",
       "    </tr>\n",
       "    <tr>\n",
       "      <th>4</th>\n",
       "      <td>0.0</td>\n",
       "      <td>1.0</td>\n",
       "      <td>0.0</td>\n",
       "      <td>0.0</td>\n",
       "      <td>0.0</td>\n",
       "      <td>1.0</td>\n",
       "      <td>0.0</td>\n",
       "      <td>1.0</td>\n",
       "      <td>1.0</td>\n",
       "      <td>0.0</td>\n",
       "      <td>...</td>\n",
       "      <td>0.405869</td>\n",
       "      <td>-2.380066</td>\n",
       "      <td>-0.189488</td>\n",
       "      <td>-0.373194</td>\n",
       "      <td>0.0</td>\n",
       "      <td>0.901680</td>\n",
       "      <td>0.178378</td>\n",
       "      <td>-0.561253</td>\n",
       "      <td>0.300841</td>\n",
       "      <td>0</td>\n",
       "    </tr>\n",
       "  </tbody>\n",
       "</table>\n",
       "<p>5 rows × 83 columns</p>\n",
       "</div>"
      ],
      "text/plain": [
       "   home_ownership_ANY  home_ownership_MORTGAGE  home_ownership_OWN  \\\n",
       "0                 0.0                      0.0                 0.0   \n",
       "1                 0.0                      0.0                 0.0   \n",
       "2                 0.0                      1.0                 0.0   \n",
       "3                 0.0                      1.0                 0.0   \n",
       "4                 0.0                      1.0                 0.0   \n",
       "\n",
       "   home_ownership_RENT  verification_status_Not Verified  \\\n",
       "0                  1.0                               1.0   \n",
       "1                  1.0                               1.0   \n",
       "2                  0.0                               0.0   \n",
       "3                  0.0                               1.0   \n",
       "4                  0.0                               0.0   \n",
       "\n",
       "   verification_status_Source Verified  verification_status_Verified  \\\n",
       "0                                  0.0                           0.0   \n",
       "1                                  0.0                           0.0   \n",
       "2                                  1.0                           0.0   \n",
       "3                                  0.0                           0.0   \n",
       "4                                  1.0                           0.0   \n",
       "\n",
       "   hardship_flag_N  debt_settlement_flag_N  initial_list_status_f  ...  \\\n",
       "0              1.0                     1.0                    0.0  ...   \n",
       "1              1.0                     1.0                    0.0  ...   \n",
       "2              1.0                     1.0                    0.0  ...   \n",
       "3              1.0                     1.0                    0.0  ...   \n",
       "4              1.0                     1.0                    0.0  ...   \n",
       "\n",
       "   num_tl_op_past_12m  pct_tl_nvr_dlq  percent_bc_gt_75  pub_rec_bankruptcies  \\\n",
       "0           -0.119909       -0.143239         -0.925559             -0.373194   \n",
       "1            0.405869        0.594438         -0.433864             -0.373194   \n",
       "2           -0.645686       -0.357403          0.546582              2.605953   \n",
       "3           -0.645686       -0.809528         -0.925559             -0.373194   \n",
       "4            0.405869       -2.380066         -0.189488             -0.373194   \n",
       "\n",
       "   tax_liens  tot_hi_cred_lim  total_bal_ex_mort  total_bc_limit  \\\n",
       "0        0.0        -0.806673          -0.465307       -0.239786   \n",
       "1        0.0        -0.702652          -0.354174        0.174055   \n",
       "2        0.0         0.660536          -0.393676       -0.398672   \n",
       "3        0.0         0.822887          -0.254125       -0.550168   \n",
       "4        0.0         0.901680           0.178378       -0.561253   \n",
       "\n",
       "   total_il_high_credit_limit  loan_status  \n",
       "0                   -0.503782            0  \n",
       "1                   -0.370419            0  \n",
       "2                    0.321606            0  \n",
       "3                    0.325281            0  \n",
       "4                    0.300841            0  \n",
       "\n",
       "[5 rows x 83 columns]"
      ]
     },
     "execution_count": 18,
     "metadata": {},
     "output_type": "execute_result"
    }
   ],
   "source": [
    "train_p = pd.read_csv('./data/stage_2/loanstats_train_sm_processed.csv')\n",
    "val_p = pd.read_csv('./data/stage_2/loanstats_val_processed.csv')\n",
    "test_p = pd.read_csv('./data/stage_2/loanstats_test_processed.csv')\n",
    "train_p.head()"
   ]
  },
  {
   "cell_type": "code",
   "execution_count": 19,
   "metadata": {},
   "outputs": [],
   "source": [
    "X_train1, y_train1 = split_x_y(train_p, target)\n",
    "X_val1, y_val1 = split_x_y(val_p, target)\n",
    "X_test1, y_test1 = split_x_y(test_p, target)"
   ]
  },
  {
   "cell_type": "code",
   "execution_count": 20,
   "metadata": {},
   "outputs": [
    {
     "name": "stdout",
     "output_type": "stream",
     "text": [
      "Training size: (15304, 82), Validation size: (7268, 82), Testing size: (7269, 82)\n"
     ]
    }
   ],
   "source": [
    "print(f'Training size: {X_train1.shape}, Validation size: {X_val1.shape}, Testing size: {X_test1.shape}')"
   ]
  },
  {
   "attachments": {},
   "cell_type": "markdown",
   "metadata": {},
   "source": [
    "Set algorithm (select from {'dt', 'knn', 'logistic', 'rf', 'svm', 'xgboost'}) and hyperparameters"
   ]
  },
  {
   "cell_type": "code",
   "execution_count": 21,
   "metadata": {},
   "outputs": [],
   "source": [
    "algo = 'rf'\n",
    "params = {\n",
    "    \"n_estimators\": 100,\n",
    "    \"criterion\": \"gini\",\n",
    "    \"max_depth\": 8,\n",
    "    \"random_state\": 42,\n",
    "    \"class_weight\": \"balanced\"\n",
    "}"
   ]
  },
  {
   "attachments": {},
   "cell_type": "markdown",
   "metadata": {},
   "source": [
    "### Training pipeline"
   ]
  },
  {
   "cell_type": "code",
   "execution_count": 22,
   "metadata": {},
   "outputs": [
    {
     "name": "stdout",
     "output_type": "stream",
     "text": [
      "Training completed.\n",
      "Successfully saved model to ./outputs/loanstats_2023-03-21/valid_mode.pkl.\n"
     ]
    }
   ],
   "source": [
    "save_path = f'{models_dir}/valid_mode.pkl'\n",
    "valid_model = train(X_train1,y_train1, algo, params, save=True, save_path=save_path)"
   ]
  },
  {
   "attachments": {},
   "cell_type": "markdown",
   "metadata": {},
   "source": [
    "## Evaluate"
   ]
  },
  {
   "attachments": {},
   "cell_type": "markdown",
   "metadata": {},
   "source": [
    "Predict probabilities with benchmark model and valid model"
   ]
  },
  {
   "cell_type": "code",
   "execution_count": 30,
   "metadata": {},
   "outputs": [],
   "source": [
    "# benchmark\n",
    "bm_train_proba = benchmark_model.predict_proba(X_train)\n",
    "bm_test_proba = benchmark_model.predict_proba(X_test)"
   ]
  },
  {
   "cell_type": "code",
   "execution_count": 31,
   "metadata": {},
   "outputs": [],
   "source": [
    "# validatee\n",
    "vm_train_proba = valid_model.predict_proba(X_train1)\n",
    "vm_test_proba = valid_model.predict_proba(X_test1)"
   ]
  },
  {
   "attachments": {},
   "cell_type": "markdown",
   "metadata": {},
   "source": [
    "### Generic model performance metrics"
   ]
  },
  {
   "attachments": {},
   "cell_type": "markdown",
   "metadata": {},
   "source": [
    "Benchmark model"
   ]
  },
  {
   "cell_type": "code",
   "execution_count": 29,
   "metadata": {},
   "outputs": [
    {
     "data": {
      "text/plain": [
       "[array([0.31113866, 0.09547744, 0.14385734, ..., 0.34275335, 0.23518106,\n",
       "        0.13159956]),\n",
       " array([0.18543096, 0.13455336, 0.21317888, ..., 0.16268003, 0.09734717,\n",
       "        0.27762541]),\n",
       " array([0.25269176, 0.16497784, 0.24216055, ..., 0.10947752, 0.17218091,\n",
       "        0.13126698])]"
      ]
     },
     "execution_count": 29,
     "metadata": {},
     "output_type": "execute_result"
    }
   ],
   "source": [
    "# training data\n",
    "evaluate_performance(bm_train_proba, 0.3, y_true: np.ndarray, X: pd.DataFrame, model: BaseEstimator)"
   ]
  }
 ],
 "metadata": {
  "kernelspec": {
   "display_name": "Python 3",
   "language": "python",
   "name": "python3"
  },
  "language_info": {
   "codemirror_mode": {
    "name": "ipython",
    "version": 3
   },
   "file_extension": ".py",
   "mimetype": "text/x-python",
   "name": "python",
   "nbconvert_exporter": "python",
   "pygments_lexer": "ipython3",
   "version": "3.9.13"
  },
  "orig_nbformat": 4
 },
 "nbformat": 4,
 "nbformat_minor": 2
}
